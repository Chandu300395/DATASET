{
  "cells": [
    {
      "cell_type": "markdown",
      "metadata": {
        "id": "view-in-github",
        "colab_type": "text"
      },
      "source": [
        "<a href=\"https://colab.research.google.com/github/Chandu300395/DATASET/blob/main/Basic%20Code%20Python.ipynb\" target=\"_parent\"><img src=\"https://colab.research.google.com/assets/colab-badge.svg\" alt=\"Open In Colab\"/></a>"
      ]
    },
    {
      "cell_type": "code",
      "source": [
        "print(\"Hello, World!\")"
      ],
      "metadata": {
        "colab": {
          "base_uri": "https://localhost:8080/"
        },
        "id": "S_9uzyjgst3L",
        "outputId": "c4d7339f-1bda-4ec5-c3e7-c03c9160f927"
      },
      "execution_count": null,
      "outputs": [
        {
          "output_type": "stream",
          "name": "stdout",
          "text": [
            "Hello, World!\n"
          ]
        }
      ]
    },
    {
      "cell_type": "code",
      "source": [
        "x = 10\n",
        "y = \"Hell0, World!\"\n",
        "x\n",
        "y"
      ],
      "metadata": {
        "colab": {
          "base_uri": "https://localhost:8080/",
          "height": 35
        },
        "id": "TVcXCDuYtCfs",
        "outputId": "9c99bddd-4727-42de-a80c-d046c258cccb"
      },
      "execution_count": null,
      "outputs": [
        {
          "output_type": "execute_result",
          "data": {
            "text/plain": [
              "'Hell0, World!'"
            ],
            "application/vnd.google.colaboratory.intrinsic+json": {
              "type": "string"
            }
          },
          "metadata": {},
          "execution_count": 3
        }
      ]
    },
    {
      "cell_type": "markdown",
      "source": [
        "Comments"
      ],
      "metadata": {
        "id": "YSaYxugxtlJ4"
      }
    },
    {
      "cell_type": "code",
      "source": [
        "# Comments can be used to prevent execution when testing code.\n",
        "# print(\"Hello, World!\")\n",
        "print (\"Cheers everyone\")"
      ],
      "metadata": {
        "colab": {
          "base_uri": "https://localhost:8080/"
        },
        "id": "rCOt_bfmtKnM",
        "outputId": "1411fb24-97a4-4fbf-b852-fec5f1637b18"
      },
      "execution_count": null,
      "outputs": [
        {
          "output_type": "stream",
          "name": "stdout",
          "text": [
            "Cheers everyone\n"
          ]
        }
      ]
    },
    {
      "cell_type": "code",
      "source": [
        "\"\"\"\n",
        "This is a comment\n",
        "written in\n",
        "more than just one line(Multiline comment)\n",
        "\"\"\"\n",
        "print(\"Hello, World!\")"
      ],
      "metadata": {
        "colab": {
          "base_uri": "https://localhost:8080/"
        },
        "id": "pST85EOvtMdq",
        "outputId": "0aa1eacc-9415-49de-85cb-7fbda2d01126"
      },
      "execution_count": null,
      "outputs": [
        {
          "output_type": "stream",
          "name": "stdout",
          "text": [
            "Hello, World!\n"
          ]
        }
      ]
    },
    {
      "cell_type": "markdown",
      "source": [
        "Creating Variables"
      ],
      "metadata": {
        "id": "c0U6s4fetVDD"
      }
    },
    {
      "cell_type": "code",
      "source": [
        "x = 9\n",
        "y = \"Kumar\"\n",
        "print(x)\n",
        "print(y)"
      ],
      "metadata": {
        "colab": {
          "base_uri": "https://localhost:8080/"
        },
        "id": "3urAZYe-tV9-",
        "outputId": "fcd12946-873e-4868-c1e9-2462ae3861fa"
      },
      "execution_count": null,
      "outputs": [
        {
          "output_type": "stream",
          "name": "stdout",
          "text": [
            "9\n",
            "Kumar\n"
          ]
        }
      ]
    },
    {
      "cell_type": "code",
      "source": [
        "# Python allows you to assign values to multiple variables in one line:\n",
        "a, b, c = \"Orange\", \"Banana\", \"Cherry\"\n",
        "print(a)\n",
        "print(b)\n",
        "print(c)"
      ],
      "metadata": {
        "colab": {
          "base_uri": "https://localhost:8080/"
        },
        "id": "OffyDZ1Zt0gn",
        "outputId": "f4133c2c-2701-410f-881b-e1ab2443bdc6"
      },
      "execution_count": null,
      "outputs": [
        {
          "output_type": "stream",
          "name": "stdout",
          "text": [
            "Orange\n",
            "Banana\n",
            "Cherry\n"
          ]
        }
      ]
    },
    {
      "cell_type": "markdown",
      "source": [
        "Output Variables"
      ],
      "metadata": {
        "id": "evYbuhqft8CK"
      }
    },
    {
      "cell_type": "code",
      "source": [
        "# Create two variables\n",
        "\n",
        "x = \"Python is \"\n",
        "y = \"awesome\"\n",
        "# use + character to combine variables\n",
        "z = x + y\n",
        "print(z)"
      ],
      "metadata": {
        "colab": {
          "base_uri": "https://localhost:8080/"
        },
        "id": "_3Gu7_x9t8tF",
        "outputId": "202cda47-1193-4a73-d0e3-0d8654ffda6a"
      },
      "execution_count": null,
      "outputs": [
        {
          "output_type": "stream",
          "name": "stdout",
          "text": [
            "Python is awesome\n"
          ]
        }
      ]
    },
    {
      "cell_type": "code",
      "source": [
        "# For numbers, the + character works as a mathematical operator:\n",
        "\n",
        "x = 5\n",
        "\n",
        "y = 10\n",
        "\n",
        "print(x + y)"
      ],
      "metadata": {
        "colab": {
          "base_uri": "https://localhost:8080/"
        },
        "id": "l1Nnj9dLuJR6",
        "outputId": "fdd535a5-a3fa-4965-8258-17647188ee5c"
      },
      "execution_count": null,
      "outputs": [
        {
          "output_type": "stream",
          "name": "stdout",
          "text": [
            "15\n"
          ]
        }
      ]
    },
    {
      "cell_type": "markdown",
      "source": [
        "Python Numbers\n",
        "There are three numeric types in Python:\n",
        "int\n",
        "float\n",
        "complex"
      ],
      "metadata": {
        "id": "7oIICZWvuPSz"
      }
    },
    {
      "cell_type": "code",
      "source": [
        "# Example\n",
        "x = 1 # int\n",
        "y = 2.8 # float\n",
        "z = 1j # complex\n",
        "print(type(x))\n",
        "print(type(y))\n",
        "print(type(z))"
      ],
      "metadata": {
        "colab": {
          "base_uri": "https://localhost:8080/"
        },
        "id": "LxmVa9xTuRXN",
        "outputId": "c0dca688-d0f1-41da-ccbd-71e2f1a163f8"
      },
      "execution_count": null,
      "outputs": [
        {
          "output_type": "stream",
          "name": "stdout",
          "text": [
            "<class 'int'>\n",
            "<class 'float'>\n",
            "<class 'complex'>\n"
          ]
        }
      ]
    },
    {
      "cell_type": "code",
      "source": [
        "#convert from int to float:\n",
        "a = float(x)\n",
        "#convert from float to int:\n",
        "b = int(y)\n",
        "#convert from int to complex:\n",
        "c = complex(x)\n",
        "print(a)\n",
        "print(b)\n",
        "print(c)\n",
        "print(\" ------ \")\n",
        "print(type(a))\n",
        "print(type(b))\n",
        "print(type(c))"
      ],
      "metadata": {
        "colab": {
          "base_uri": "https://localhost:8080/"
        },
        "id": "9qeig1VtvU1r",
        "outputId": "d795ef88-3497-458d-fcdf-2192e4d738ad"
      },
      "execution_count": null,
      "outputs": [
        {
          "output_type": "stream",
          "name": "stdout",
          "text": [
            "1.0\n",
            "2\n",
            "(1+0j)\n",
            " ------ \n",
            "<class 'float'>\n",
            "<class 'int'>\n",
            "<class 'complex'>\n"
          ]
        }
      ]
    },
    {
      "cell_type": "code",
      "source": [
        "import random\n",
        "\n",
        "print(random.randrange(1,10))#print random no 1 to 10 it will be change every time when u running program"
      ],
      "metadata": {
        "colab": {
          "base_uri": "https://localhost:8080/"
        },
        "id": "dIaLMFNwvtij",
        "outputId": "a9f6d8a6-d0b3-48b0-8ef8-c178878076d3"
      },
      "execution_count": null,
      "outputs": [
        {
          "output_type": "stream",
          "name": "stdout",
          "text": [
            "7\n"
          ]
        }
      ]
    },
    {
      "cell_type": "code",
      "source": [
        "x = int(1.9) # x will be 1\n",
        "y = float(2) # y will be 2.0\n",
        "z = str(\"3\") # z will be 3\n",
        "print(x)\n",
        "print(y)\n",
        "print(z)"
      ],
      "metadata": {
        "colab": {
          "base_uri": "https://localhost:8080/"
        },
        "id": "KhcYgSHKwoVI",
        "outputId": "13ed9f42-1eec-44d0-d7f8-63952106a974"
      },
      "execution_count": null,
      "outputs": [
        {
          "output_type": "stream",
          "name": "stdout",
          "text": [
            "1\n",
            "2.0\n",
            "3\n"
          ]
        }
      ]
    },
    {
      "cell_type": "code",
      "source": [
        "#Strings are Arrays\n",
        "a = \"Hello, World!\"\n",
        "print(a[1])"
      ],
      "metadata": {
        "colab": {
          "base_uri": "https://localhost:8080/"
        },
        "id": "7b5lODAvxI8P",
        "outputId": "589231f6-18fe-48ab-c2d0-8b453df6d081"
      },
      "execution_count": null,
      "outputs": [
        {
          "output_type": "stream",
          "name": "stdout",
          "text": [
            "e\n"
          ]
        }
      ]
    },
    {
      "cell_type": "code",
      "source": [
        "b = \"Hello, World!\"\n",
        "print(b[0:4])\n",
        "print(b[:4])"
      ],
      "metadata": {
        "colab": {
          "base_uri": "https://localhost:8080/"
        },
        "id": "icV7aNs-xZ5C",
        "outputId": "e12ac694-c352-4f37-fde0-f44d8b1929dd"
      },
      "execution_count": null,
      "outputs": [
        {
          "output_type": "stream",
          "name": "stdout",
          "text": [
            "Hell\n",
            "Hell\n"
          ]
        }
      ]
    },
    {
      "cell_type": "code",
      "source": [
        "c = \"HELLO\"\n",
        "print(c[-5])\n",
        "print(c[-4])\n",
        "print(c[-3])\n",
        "print(c[-2])\n",
        "print(c[-1])\n",
        "print(c[-5:-1])"
      ],
      "metadata": {
        "colab": {
          "base_uri": "https://localhost:8080/"
        },
        "id": "MZIwEmjtxq6z",
        "outputId": "5f3aa226-16ec-48e5-ac4e-f4702e83e244"
      },
      "execution_count": null,
      "outputs": [
        {
          "output_type": "stream",
          "name": "stdout",
          "text": [
            "H\n",
            "E\n",
            "L\n",
            "L\n",
            "O\n",
            "HELL\n"
          ]
        }
      ]
    },
    {
      "cell_type": "code",
      "source": [
        "# Example\n",
        "# The strip() method removes any whitespace from the beginning or the end:\n",
        "a = \"  Hello, World!  \"\n",
        "print(a.strip()) # returns \"Hello, World!\""
      ],
      "metadata": {
        "colab": {
          "base_uri": "https://localhost:8080/"
        },
        "id": "60iWtCQXxk__",
        "outputId": "c45649a6-c97a-4ba7-bf67-bafd2ff84ead"
      },
      "execution_count": null,
      "outputs": [
        {
          "output_type": "stream",
          "name": "stdout",
          "text": [
            "Hello, World!\n"
          ]
        }
      ]
    },
    {
      "cell_type": "code",
      "source": [
        "# Example\n",
        "# The len() method returns the length of a string:\n",
        "a = \"Hello, World!\"\n",
        "print(len(a))"
      ],
      "metadata": {
        "colab": {
          "base_uri": "https://localhost:8080/"
        },
        "id": "-Ejodu4pzKIl",
        "outputId": "f5e37802-13f8-4cae-dcfa-f739e12a4151"
      },
      "execution_count": null,
      "outputs": [
        {
          "output_type": "stream",
          "name": "stdout",
          "text": [
            "13\n"
          ]
        }
      ]
    },
    {
      "cell_type": "code",
      "source": [
        "#Example The lower() method returns the string in lower case:\n",
        "a = \"Hello, World!\"\n",
        "print(a.lower())\n",
        "print(a.upper())\n",
        "print(a.replace(\"H\", \"J\"))#replace word\n",
        "print(a.split(\",\")) # divided into two word and sentence returns ['Hello', ' World!']"
      ],
      "metadata": {
        "colab": {
          "base_uri": "https://localhost:8080/"
        },
        "id": "DSuqI0tFzR22",
        "outputId": "23a3836c-648f-4f58-b250-01ed39ce299f"
      },
      "execution_count": null,
      "outputs": [
        {
          "output_type": "stream",
          "name": "stdout",
          "text": [
            "hello, world!\n",
            "HELLO, WORLD!\n",
            "Jello, World!\n",
            "['Hello', ' World!']\n"
          ]
        }
      ]
    },
    {
      "cell_type": "code",
      "source": [
        "# Example\n",
        "# Use the format() method to insert numbers into strings:\n",
        "\n",
        "age = 36\n",
        "txt = \"My name is kumar, and I am {}\"\n",
        "print(txt.format(age))"
      ],
      "metadata": {
        "colab": {
          "base_uri": "https://localhost:8080/"
        },
        "id": "9WYI_S4Xz45W",
        "outputId": "19f21cdc-98bd-4fe9-b72b-3790017bf1aa"
      },
      "execution_count": null,
      "outputs": [
        {
          "output_type": "stream",
          "name": "stdout",
          "text": [
            "My name is kumar, and I am 36\n"
          ]
        }
      ]
    },
    {
      "cell_type": "code",
      "source": [
        "# The format() method takes unlimited number of arguments, and are placed into the respective placeholders:\n",
        "# Example\n",
        "quantity = 3\n",
        "itemno = 567\n",
        "price = 49.95\n",
        "myorder = \"I want {} pieces of item {} for {} dollars.\"\n",
        "\n",
        "print(myorder.format(quantity, itemno, price))"
      ],
      "metadata": {
        "colab": {
          "base_uri": "https://localhost:8080/"
        },
        "id": "hExOle540DH-",
        "outputId": "8bb3b2ab-413e-482a-8f0c-f6eb49e2c7c2"
      },
      "execution_count": null,
      "outputs": [
        {
          "output_type": "stream",
          "name": "stdout",
          "text": [
            "I want 3 pieces of item 567 for 49.95 dollars.\n"
          ]
        }
      ]
    },
    {
      "cell_type": "code",
      "source": [
        "# You can use index numbers {0} to be sure the arguments are placed in the correct placeholders:\n",
        "\n",
        "# Example\n",
        "quantity = 3\n",
        "\n",
        "itemno = 567\n",
        "\n",
        "price = 49.95\n",
        "myorder = \"I want to pay {2} dollars for {0} pieces of item {1}.\"\n",
        "print(myorder.format(quantity, itemno, price))"
      ],
      "metadata": {
        "colab": {
          "base_uri": "https://localhost:8080/"
        },
        "id": "Lijz-WzI0Ykp",
        "outputId": "675ee533-5111-445e-cedc-c97b8e7e2b32"
      },
      "execution_count": null,
      "outputs": [
        {
          "output_type": "stream",
          "name": "stdout",
          "text": [
            "I want to pay 49.95 dollars for 3 pieces of item 567.\n"
          ]
        }
      ]
    },
    {
      "cell_type": "markdown",
      "source": [
        "Python Operators\n",
        "\n",
        "1-Python Arithmetic Operators\n"
      ],
      "metadata": {
        "id": "Id-p4LzK9tTJ"
      }
    },
    {
      "cell_type": "code",
      "source": [
        "a = 7\n",
        "b = 2\n",
        "\n",
        "# addition\n",
        "print ('Sum: ', a + b)\n",
        "\n",
        "# subtraction\n",
        "print ('Subtraction: ', a - b)\n",
        "\n",
        "# multiplication\n",
        "print ('Multiplication: ', a * b)\n",
        "\n",
        "# division\n",
        "print ('Division: ', a / b)\n",
        "\n",
        "# floor division\n",
        "print ('Floor Division: ', a // b)\n",
        "\n",
        "# modulo\n",
        "print ('Modulo: ', a % b)\n",
        "\n",
        "# a to the power b\n",
        "print ('Power: ', a ** b)"
      ],
      "metadata": {
        "id": "B0dtjh2lKruY",
        "outputId": "af1859f7-8e1f-4c65-b4a5-df110e18c8af",
        "colab": {
          "base_uri": "https://localhost:8080/"
        }
      },
      "execution_count": null,
      "outputs": [
        {
          "output_type": "stream",
          "name": "stdout",
          "text": [
            "Sum:  9\n",
            "Subtraction:  5\n",
            "Multiplication:  14\n",
            "Division:  3.5\n",
            "Floor Division:  3\n",
            "Modulo:  1\n",
            "Power:  49\n"
          ]
        }
      ]
    },
    {
      "cell_type": "code",
      "source": [
        "x=2\n",
        "y=3\n",
        "a=x+y#addition\n",
        "print(a)"
      ],
      "metadata": {
        "colab": {
          "base_uri": "https://localhost:8080/"
        },
        "id": "Zl-_UBsb-xvD",
        "outputId": "3ce3eb48-2cfb-4464-be76-f5943a3529b3"
      },
      "execution_count": null,
      "outputs": [
        {
          "output_type": "stream",
          "name": "stdout",
          "text": [
            "5\n"
          ]
        }
      ]
    },
    {
      "cell_type": "code",
      "source": [
        "a=x*y#multiplication\n",
        "print(a)"
      ],
      "metadata": {
        "colab": {
          "base_uri": "https://localhost:8080/"
        },
        "id": "Au58jdXM_D9d",
        "outputId": "bfb85cab-59a5-412c-9c12-dbdb39d1f5ea"
      },
      "execution_count": null,
      "outputs": [
        {
          "output_type": "stream",
          "name": "stdout",
          "text": [
            "6\n"
          ]
        }
      ]
    },
    {
      "cell_type": "code",
      "source": [
        "a=x/y#Division\n",
        "print(a)"
      ],
      "metadata": {
        "colab": {
          "base_uri": "https://localhost:8080/"
        },
        "id": "HvZ60Wt0_Hay",
        "outputId": "c59e5d5c-d136-45a7-fecf-efe62bf80203"
      },
      "execution_count": null,
      "outputs": [
        {
          "output_type": "stream",
          "name": "stdout",
          "text": [
            "0.6666666666666666\n"
          ]
        }
      ]
    },
    {
      "cell_type": "code",
      "source": [
        "a=x-y#subtraction\n",
        "print(a)"
      ],
      "metadata": {
        "colab": {
          "base_uri": "https://localhost:8080/"
        },
        "id": "EpwS-0fc_APz",
        "outputId": "941e1f10-910b-4ddb-8a00-cbbafb54c59e"
      },
      "execution_count": null,
      "outputs": [
        {
          "output_type": "stream",
          "name": "stdout",
          "text": [
            "-1\n"
          ]
        }
      ]
    },
    {
      "cell_type": "code",
      "source": [
        "a=x%y#Modulus\n",
        "print(a)"
      ],
      "metadata": {
        "colab": {
          "base_uri": "https://localhost:8080/"
        },
        "id": "iMWi5v9n_KnP",
        "outputId": "758a11c1-2d47-44c3-d5b8-d05cff89a9a7"
      },
      "execution_count": null,
      "outputs": [
        {
          "output_type": "stream",
          "name": "stdout",
          "text": [
            "2\n"
          ]
        }
      ]
    },
    {
      "cell_type": "code",
      "source": [
        "a=x+y#Exponentiation\n",
        "print(a)"
      ],
      "metadata": {
        "colab": {
          "base_uri": "https://localhost:8080/"
        },
        "id": "2m5q0LMV_N0T",
        "outputId": "805fbcac-dbe8-437d-ae3c-f93c57d05c5b"
      },
      "execution_count": null,
      "outputs": [
        {
          "output_type": "stream",
          "name": "stdout",
          "text": [
            "5\n"
          ]
        }
      ]
    },
    {
      "cell_type": "code",
      "source": [
        "a=x//y#floor division\n",
        "print(a)"
      ],
      "metadata": {
        "colab": {
          "base_uri": "https://localhost:8080/"
        },
        "id": "F_TrHG_u_Sg-",
        "outputId": "e1a9a95d-f73c-4e02-fb31-52afaf0ff8a3"
      },
      "execution_count": null,
      "outputs": [
        {
          "output_type": "stream",
          "name": "stdout",
          "text": [
            "0\n"
          ]
        }
      ]
    },
    {
      "cell_type": "markdown",
      "source": [
        "2.Python Assignment Operators"
      ],
      "metadata": {
        "id": "i2XzupVo_d3e"
      }
    },
    {
      "cell_type": "code",
      "source": [
        "a = 7\n",
        "print(a)\n",
        "a += 1#+=\tAddition Assignment\t # a = a + 1\n",
        "print(a)\n",
        "a -= 3#-=\tSubtraction Assignment\t # a = a - 3\n",
        "print(a)\n",
        "a *= 4#*=\tMultiplication Assignment\t # a = a * 4\n",
        "print(a)\n",
        "a /= 3#/=\tDivision Assignment\t # a = a / 3\n",
        "print(a)\n",
        "a %= 10#%=\tRemainder Assignment\t # a = a % 10\n",
        "print(a)\n",
        "a **= 10#**=\tExponent Assignment\t # a = a ** 10\n",
        "print(a)"
      ],
      "metadata": {
        "colab": {
          "base_uri": "https://localhost:8080/"
        },
        "id": "04ohqBrI_eny",
        "outputId": "64331320-a421-4e27-8768-a47674788ffe"
      },
      "execution_count": null,
      "outputs": [
        {
          "output_type": "stream",
          "name": "stdout",
          "text": [
            "7\n",
            "8\n",
            "5\n",
            "20\n",
            "6.666666666666667\n",
            "6.666666666666667\n",
            "173415299.1583262\n"
          ]
        }
      ]
    },
    {
      "cell_type": "markdown",
      "source": [
        "3.Python Comparison Operators"
      ],
      "metadata": {
        "id": "8DTu7m43K9EK"
      }
    },
    {
      "cell_type": "code",
      "source": [
        "a = 5\n",
        "\n",
        "b = 2\n",
        "\n",
        "# equal to operator\n",
        "print('a == b =', a == b)\n",
        "\n",
        "# not equal to operator\n",
        "print('a != b =', a != b)\n",
        "\n",
        "# greater than operator\n",
        "print('a > b =', a > b)\n",
        "\n",
        "# less than operator\n",
        "print('a < b =', a < b)\n",
        "\n",
        "# greater than or equal to operator\n",
        "print('a >= b =', a >= b)\n",
        "\n",
        "# less than or equal to operator\n",
        "print('a <= b =', a <= b)"
      ],
      "metadata": {
        "id": "pIDaiYG6Ivs4",
        "outputId": "cdad54a5-e793-4fc6-de8a-1b2db4f9f792",
        "colab": {
          "base_uri": "https://localhost:8080/"
        }
      },
      "execution_count": null,
      "outputs": [
        {
          "output_type": "stream",
          "name": "stdout",
          "text": [
            "a == b = False\n",
            "a != b = True\n",
            "a > b = True\n",
            "a < b = False\n",
            "a >= b = True\n",
            "a <= b = False\n"
          ]
        }
      ]
    },
    {
      "cell_type": "markdown",
      "source": [
        "4. Python Logical Operators"
      ],
      "metadata": {
        "id": "OOaNKDSZKCH3"
      }
    },
    {
      "cell_type": "code",
      "source": [
        "a = 5\n",
        "b = 10\n",
        "\n",
        "print((a > 2) and (b < 5))# True\n",
        "print((a > 2) or (b < 5))\n",
        "print((not(a>2)))"
      ],
      "metadata": {
        "id": "2xbxS0XYLOW5",
        "outputId": "abb5b368-75a9-44a1-ac67-a49300dd5885",
        "colab": {
          "base_uri": "https://localhost:8080/"
        }
      },
      "execution_count": null,
      "outputs": [
        {
          "output_type": "stream",
          "name": "stdout",
          "text": [
            "False\n",
            "True\n",
            "False\n"
          ]
        }
      ]
    },
    {
      "cell_type": "markdown",
      "source": [
        "5.Python Membership Operators"
      ],
      "metadata": {
        "id": "s6OHYg3GMiMh"
      }
    },
    {
      "cell_type": "code",
      "source": [
        "a=\"Hello World\"\n",
        "print(\"H\" in a)\n",
        "print(\"H\" not in a)"
      ],
      "metadata": {
        "id": "RYJOYRQ6LZip",
        "outputId": "e0ebfb7c-af3d-4de3-dcf1-70c60b470ae1",
        "colab": {
          "base_uri": "https://localhost:8080/"
        }
      },
      "execution_count": null,
      "outputs": [
        {
          "output_type": "stream",
          "name": "stdout",
          "text": [
            "True\n",
            "False\n"
          ]
        }
      ]
    },
    {
      "cell_type": "markdown",
      "source": [
        "Python Collections (Arrays)\n",
        " There are four collection data types in the Python programming language:\n",
        "\n",
        "List is a collection which is ordered and changeable. Allows duplicate\n",
        "members.List in Round brackets()\n",
        "\n",
        "Tuple is a collection which is ordered and unchangeable. Allows duplicate members.\n",
        "\n",
        "Set is a collection which is unordered and unindexed. No duplicate members. In Python sets are written with curly brackets.\n",
        "\n",
        "Dictionary is a collection which is unordered, changeable and indexed. No duplicate members."
      ],
      "metadata": {
        "id": "5J_KTVCyNwTZ"
      }
    },
    {
      "cell_type": "code",
      "source": [
        "#Python List\n",
        "thislist = [\"apple\", \"banana\", \"cherry\"]\n",
        "print(thislist)\n",
        "print(thislist[0])#You access the list items by referring to the index number:\n",
        "thislist[1]=\"strawberry\"\n",
        "print(thislist)# Change the second item:\n"
      ],
      "metadata": {
        "id": "mL9HeTaaM7g7",
        "outputId": "22b29fba-e02d-492d-da15-136d5c1e3e88",
        "colab": {
          "base_uri": "https://localhost:8080/"
        }
      },
      "execution_count": null,
      "outputs": [
        {
          "output_type": "stream",
          "name": "stdout",
          "text": [
            "['apple', 'banana', 'cherry']\n",
            "apple\n",
            "['apple', 'strawberry', 'cherry']\n"
          ]
        }
      ]
    },
    {
      "cell_type": "code",
      "source": [
        "# You can loop through the list items by using a for loop:\n",
        "thislist = [\"apple\", \"banana\", \"cherry\"]\n",
        "if \"apple\" in thislist:\n",
        "  print(\"Yes, 'apple' is in the fruits list\")\n",
        "\n",
        "  print(len(thislist))# Print the number of items in the list:\n",
        "\n",
        "  thislist.append(\"orange\")## To add an item to the end of the list, use the append() method:\n",
        "  print(thislist)\n",
        "\n",
        "  thislist.insert(1, \"orange\") ## To add an item at the specified index, use the insert() method:\n",
        "print(thislist)\n",
        "\n",
        "thislist.remove(\"banana\") # The remove() method removes the specified item:\n",
        "print(thislist)\n",
        "\n",
        "thislist.pop() # The pop() method removes the specified index, (or the last item if index is not specified):\n",
        "print(thislist)\n",
        "\n",
        "del thislist# The del keyword can also delete the list completely:\n",
        "\n",
        "thislist = [\"apple\", \"banana\", \"cherry\"]# The clear() method empties the list:\n",
        "thislist.clear()\n",
        "print(thislist)\n",
        "\n",
        "mylist = thislist.copy() # Make a copy of a list with the copy() method:\n",
        "print(mylist)\n",
        "\n",
        "# Using the list() constructor to make a List:\n",
        "thislist = list((\"apple\", \"banana\", \"cherry\"))# It is also possible to use the list() constructor to make a new list. # note the double round-brackets\n",
        "print(thislist)"
      ],
      "metadata": {
        "colab": {
          "base_uri": "https://localhost:8080/"
        },
        "id": "rnyK8zUOgLfJ",
        "outputId": "43748b7f-6628-4505-8302-c84215572803"
      },
      "execution_count": null,
      "outputs": [
        {
          "output_type": "stream",
          "name": "stdout",
          "text": [
            "Yes, 'apple' is in the fruits list\n",
            "3\n",
            "['apple', 'banana', 'cherry', 'orange']\n",
            "['apple', 'orange', 'banana', 'cherry', 'orange']\n",
            "['apple', 'orange', 'cherry', 'orange']\n",
            "['apple', 'orange', 'cherry']\n",
            "[]\n",
            "[]\n",
            "['apple', 'banana', 'cherry']\n"
          ]
        }
      ]
    },
    {
      "cell_type": "code",
      "source": [
        "#Python Tuples\n",
        "thistuple = (\"apple\", \"banana\", \"cherry\")\n",
        "print(thistuple)\n",
        "\n",
        "thistuple = (\"apple\", \"banana\", \"cherry\")\n",
        "print(thistuple[1])\n",
        "\n",
        "thistuple = (\"apple\", \"banana\", \"cherry\")#loop\n",
        "for x in thistuple:\n",
        "  print(x)\n",
        "\n",
        "thistuple = tuple((\"apple\", \"banana\", \"cherry\")) # note the double round-brackets\n",
        "print(thistuple)\n",
        "\n",
        "thistuple = (\"apple\", \"banana\", \"cherry\") #Length\n",
        "print(len(thistuple))"
      ],
      "metadata": {
        "colab": {
          "base_uri": "https://localhost:8080/"
        },
        "id": "__Ms8IWI6jm1",
        "outputId": "3074738b-7583-4281-b4d2-85e5decaadc1"
      },
      "execution_count": null,
      "outputs": [
        {
          "output_type": "stream",
          "name": "stdout",
          "text": [
            "('apple', 'banana', 'cherry')\n",
            "banana\n",
            "apple\n",
            "banana\n",
            "cherry\n",
            "('apple', 'banana', 'cherry')\n",
            "3\n"
          ]
        }
      ]
    },
    {
      "cell_type": "code",
      "source": [
        "  #Python Sets\n",
        "  thisset = {\"apple\", \"banana\", \"cherry\"}\n",
        "  print(thisset)\n",
        "\n",
        "  thisset = {\"apple\", \"banana\", \"cherry\"} # Loop through the set, and print the values:\n",
        "  for x in thisset:\n",
        "    print(x)\n",
        "\n",
        "  thisset = {\"apple\", \"banana\", \"cherry\"} # Check if \"banana\" is present in the set:\n",
        "  print(\"banana\" in thisset)\n",
        "\n",
        "  #Once a set is created, you cannot change its items, but you can add new items.Add an item to a set, using the add() method:\n",
        "  thisset = {\"apple\", \"banana\", \"cherry\"}\n",
        "  thisset.add(\"orange\")\n",
        "  print(thisset)\n",
        "\n",
        "  thisset.update([\"orange\", \"mango\", \"grapes\"]) # Add multiple items to a set, using the update() method:\n",
        "  print(thisset)\n",
        "\n",
        "  thisset.remove(\"banana\")\n",
        "  print(thisset)\n",
        "\n",
        "  thisset = {\"apple\", \"banana\", \"cherry\"}\n",
        "  thisset.remove(\"banana\")\n",
        "  print(thisset)\n",
        "\n",
        "  thisset = {\"apple\", \"banana\", \"cherry\"}\n",
        "  thisset.remove(\"apple\")\n",
        "  print(thisset)# To remove an item in a set, use the remove(), or the discard() method.\n",
        "\n",
        "  thisset.discard(\"cherry\")\n",
        "  print(thisset)\n",
        "\n",
        "  thisset = {\"apple\", \"banana\", \"cherry\"} # The return value of the pop() method is the removed item.\n",
        "  x = thisset.pop()\n",
        "  print(x)\n",
        "  print(thisset)\n",
        "\n",
        "  thisset = {\"apple\", \"banana\", \"cherry\"}\n",
        "  thisset.clear()\n",
        "  print(thisset)\n",
        "\n",
        "  thisset = set((\"apple\", \"banana\", \"cherry\"))# Using the set() constructor to make a set: # note the double round-brackets\n",
        "  print(thisset)"
      ],
      "metadata": {
        "colab": {
          "base_uri": "https://localhost:8080/"
        },
        "id": "C7xilxI77MLd",
        "outputId": "459c92bb-8302-4f8f-dd23-a4c27875f9f8"
      },
      "execution_count": null,
      "outputs": [
        {
          "output_type": "stream",
          "name": "stdout",
          "text": [
            "{'cherry', 'banana', 'apple'}\n",
            "cherry\n",
            "banana\n",
            "apple\n",
            "True\n",
            "{'cherry', 'orange', 'banana', 'apple'}\n",
            "{'orange', 'banana', 'apple', 'mango', 'grapes', 'cherry'}\n",
            "{'orange', 'apple', 'mango', 'grapes', 'cherry'}\n",
            "{'cherry', 'apple'}\n",
            "{'cherry', 'banana'}\n",
            "{'banana'}\n",
            "cherry\n",
            "{'banana', 'apple'}\n",
            "set()\n",
            "{'cherry', 'banana', 'apple'}\n"
          ]
        }
      ]
    },
    {
      "cell_type": "markdown",
      "source": [
        "# **PANDAS SERIES**"
      ],
      "metadata": {
        "id": "9cdPHebTeRgb"
      }
    },
    {
      "cell_type": "code",
      "source": [
        "import pandas as pd\n",
        "groceries = pd.Series(data = [30, 6, 'Yes', 'No'], index = ['eggs', 'apples', 'milk', 'bread'])\n",
        "groceries"
      ],
      "metadata": {
        "colab": {
          "base_uri": "https://localhost:8080/",
          "height": 209
        },
        "id": "qwq_zSfv8mAz",
        "outputId": "b28e1b98-5f4d-4055-d25c-fe78e6d6a9c1"
      },
      "execution_count": 3,
      "outputs": [
        {
          "output_type": "execute_result",
          "data": {
            "text/plain": [
              "eggs       30\n",
              "apples      6\n",
              "milk      Yes\n",
              "bread      No\n",
              "dtype: object"
            ],
            "text/html": [
              "<div>\n",
              "<style scoped>\n",
              "    .dataframe tbody tr th:only-of-type {\n",
              "        vertical-align: middle;\n",
              "    }\n",
              "\n",
              "    .dataframe tbody tr th {\n",
              "        vertical-align: top;\n",
              "    }\n",
              "\n",
              "    .dataframe thead th {\n",
              "        text-align: right;\n",
              "    }\n",
              "</style>\n",
              "<table border=\"1\" class=\"dataframe\">\n",
              "  <thead>\n",
              "    <tr style=\"text-align: right;\">\n",
              "      <th></th>\n",
              "      <th>0</th>\n",
              "    </tr>\n",
              "  </thead>\n",
              "  <tbody>\n",
              "    <tr>\n",
              "      <th>eggs</th>\n",
              "      <td>30</td>\n",
              "    </tr>\n",
              "    <tr>\n",
              "      <th>apples</th>\n",
              "      <td>6</td>\n",
              "    </tr>\n",
              "    <tr>\n",
              "      <th>milk</th>\n",
              "      <td>Yes</td>\n",
              "    </tr>\n",
              "    <tr>\n",
              "      <th>bread</th>\n",
              "      <td>No</td>\n",
              "    </tr>\n",
              "  </tbody>\n",
              "</table>\n",
              "</div><br><label><b>dtype:</b> object</label>"
            ]
          },
          "metadata": {},
          "execution_count": 3
        }
      ]
    },
    {
      "cell_type": "code",
      "source": [
        "### shape, size, values, index, ndim\n",
        "print('Groceries has shape:',groceries.shape)\n",
        "print('Groceries has dimension:',groceries.ndim)\n",
        "print('Groceries has a total of',groceries.size,'elements')\n",
        "print('The data in Groceries is:',groceries.values)\n",
        "print('The index of Groceries is:',groceries.index)\n"
      ],
      "metadata": {
        "colab": {
          "base_uri": "https://localhost:8080/"
        },
        "id": "gwa2hDkaaxV7",
        "outputId": "4eace269-808f-4aaf-8326-93720409ed2c"
      },
      "execution_count": 4,
      "outputs": [
        {
          "output_type": "stream",
          "name": "stdout",
          "text": [
            "Groceries has shape: (4,)\n",
            "Groceries has dimension: 1\n",
            "Groceries has a total of 4 elements\n",
            "The data in Groceries is: [30 6 'Yes' 'No']\n",
            "The index of Groceries is: Index(['eggs', 'apples', 'milk', 'bread'], dtype='object')\n"
          ]
        }
      ]
    },
    {
      "cell_type": "code",
      "source": [
        "# check whether an index label exists in Series\n",
        "x = 'bananas' in groceries\n",
        "x"
      ],
      "metadata": {
        "colab": {
          "base_uri": "https://localhost:8080/"
        },
        "id": "NtyYERRMbRRf",
        "outputId": "9f82400a-bd13-4018-88ac-60505cee0656"
      },
      "execution_count": 5,
      "outputs": [
        {
          "output_type": "execute_result",
          "data": {
            "text/plain": [
              "False"
            ]
          },
          "metadata": {},
          "execution_count": 5
        }
      ]
    },
    {
      "cell_type": "code",
      "source": [
        "print('How many eggs do we need to buy:', groceries['eggs'])\n",
        "print('Do we need milk and bread:\\n', groceries[['milk', 'bread']])\n",
        "print('How many eggs and apples do we need to buy:\\n', groceries.loc[['eggs','apples']])\n",
        "print('How many eggs and apples do we need to buy:\\n',  groceries[[0, 1]])\n",
        "print('Do we need bread:\\n', groceries[[-1]])"
      ],
      "metadata": {
        "colab": {
          "base_uri": "https://localhost:8080/"
        },
        "id": "fIQWLbgtbkCt",
        "outputId": "99e7b05e-686e-485f-d2a2-a309988a8a99"
      },
      "execution_count": 6,
      "outputs": [
        {
          "output_type": "stream",
          "name": "stdout",
          "text": [
            "How many eggs do we need to buy: 30\n",
            "Do we need milk and bread:\n",
            " milk     Yes\n",
            "bread     No\n",
            "dtype: object\n",
            "How many eggs and apples do we need to buy:\n",
            " eggs      30\n",
            "apples     6\n",
            "dtype: object\n",
            "How many eggs and apples do we need to buy:\n",
            " eggs      30\n",
            "apples     6\n",
            "dtype: object\n",
            "Do we need bread:\n",
            " bread    No\n",
            "dtype: object\n"
          ]
        },
        {
          "output_type": "stream",
          "name": "stderr",
          "text": [
            "<ipython-input-6-dcb9a0ca4bed>:4: FutureWarning: Series.__getitem__ treating keys as positions is deprecated. In a future version, integer keys will always be treated as labels (consistent with DataFrame behavior). To access a value by position, use `ser.iloc[pos]`\n",
            "  print('How many eggs and apples do we need to buy:\\n',  groceries[[0, 1]])\n",
            "<ipython-input-6-dcb9a0ca4bed>:5: FutureWarning: Series.__getitem__ treating keys as positions is deprecated. In a future version, integer keys will always be treated as labels (consistent with DataFrame behavior). To access a value by position, use `ser.iloc[pos]`\n",
            "  print('Do we need bread:\\n', groceries[[-1]])\n"
          ]
        }
      ]
    },
    {
      "cell_type": "code",
      "source": [
        "#1.1.4. Accessing Elements¶\n",
        "\n",
        "# Accessing Elements using index labels:\n",
        "#single index label\n",
        "print('How many eggs do we need to buy:', groceries['eggs'])\n",
        "# access multiple index labels\n",
        "print('Do we need milk and bread:\\n', groceries[['milk', 'bread']])\n",
        "# use loc to access multiple index labels\n",
        "print('How many eggs and apples do we need to buy:\\n', groceries.loc[['eggs', 'apples']])\n",
        "# access elements in Groceries using numerical indices:\n",
        "# use multiple numerical indices\n",
        "print('How many eggs and apples do we need to buy:\\n',  groceries[[0, 1]])\n",
        "# use a negative numerical index\n",
        "print('Do we need bread:\\n', groceries[[-1]])\n",
        "# use a single numerical index\n",
        "print('How many eggs do we need to buy:', groceries[0])\n",
        "# use iloc (stands for integer location) to access multiple numerical indices\n",
        "print('Do we need milk and bread:\\n', groceries.iloc[[2, 3]])\n",
        "# Since we can access elements in various ways, in order to remove\n",
        "# any ambiguity to whether we are referring to an index label\n",
        "# or numerical index, Pandas Series have two attributes,\n",
        "# .loc and .iloc to explicitly state what we mean. The attribute\n",
        "# .loc stands for location and it is used to explicitly state that\n",
        "# we are using a labeled index. Similarly, the attribute .iloc stands\n",
        "# for integer location and it is used to explicitly state that we are\n",
        "# using a numerical index."
      ],
      "metadata": {
        "colab": {
          "base_uri": "https://localhost:8080/"
        },
        "id": "WyDxUv7Kb7rx",
        "outputId": "19c78442-7352-45d0-e6e2-e7684ba2f0aa"
      },
      "execution_count": 7,
      "outputs": [
        {
          "output_type": "stream",
          "name": "stdout",
          "text": [
            "How many eggs do we need to buy: 30\n",
            "Do we need milk and bread:\n",
            " milk     Yes\n",
            "bread     No\n",
            "dtype: object\n",
            "How many eggs and apples do we need to buy:\n",
            " eggs      30\n",
            "apples     6\n",
            "dtype: object\n",
            "How many eggs and apples do we need to buy:\n",
            " eggs      30\n",
            "apples     6\n",
            "dtype: object\n",
            "Do we need bread:\n",
            " bread    No\n",
            "dtype: object\n",
            "How many eggs do we need to buy: 30\n",
            "Do we need milk and bread:\n",
            " milk     Yes\n",
            "bread     No\n",
            "dtype: object\n"
          ]
        },
        {
          "output_type": "stream",
          "name": "stderr",
          "text": [
            "<ipython-input-7-d0858c508f64>:12: FutureWarning: Series.__getitem__ treating keys as positions is deprecated. In a future version, integer keys will always be treated as labels (consistent with DataFrame behavior). To access a value by position, use `ser.iloc[pos]`\n",
            "  print('How many eggs and apples do we need to buy:\\n',  groceries[[0, 1]])\n",
            "<ipython-input-7-d0858c508f64>:14: FutureWarning: Series.__getitem__ treating keys as positions is deprecated. In a future version, integer keys will always be treated as labels (consistent with DataFrame behavior). To access a value by position, use `ser.iloc[pos]`\n",
            "  print('Do we need bread:\\n', groceries[[-1]])\n",
            "<ipython-input-7-d0858c508f64>:16: FutureWarning: Series.__getitem__ treating keys as positions is deprecated. In a future version, integer keys will always be treated as labels (consistent with DataFrame behavior). To access a value by position, use `ser.iloc[pos]`\n",
            "  print('How many eggs do we need to buy:', groceries[0])\n"
          ]
        }
      ]
    },
    {
      "cell_type": "code",
      "source": [
        "#1.1.5. Change Elements¶\n",
        "# Change Elements\n",
        "groceries['eggs'] = 2\n",
        "groceries\n",
        "# delete items from Series in place by setting keyword inplace to True\n",
        "#groceries.drop('apples', inplace = True)"
      ],
      "metadata": {
        "colab": {
          "base_uri": "https://localhost:8080/",
          "height": 209
        },
        "id": "YQZm_yBtcoKm",
        "outputId": "dc9d2de2-d8b4-4ce0-f990-edfd6b32018b"
      },
      "execution_count": 8,
      "outputs": [
        {
          "output_type": "execute_result",
          "data": {
            "text/plain": [
              "eggs        2\n",
              "apples      6\n",
              "milk      Yes\n",
              "bread      No\n",
              "dtype: object"
            ],
            "text/html": [
              "<div>\n",
              "<style scoped>\n",
              "    .dataframe tbody tr th:only-of-type {\n",
              "        vertical-align: middle;\n",
              "    }\n",
              "\n",
              "    .dataframe tbody tr th {\n",
              "        vertical-align: top;\n",
              "    }\n",
              "\n",
              "    .dataframe thead th {\n",
              "        text-align: right;\n",
              "    }\n",
              "</style>\n",
              "<table border=\"1\" class=\"dataframe\">\n",
              "  <thead>\n",
              "    <tr style=\"text-align: right;\">\n",
              "      <th></th>\n",
              "      <th>0</th>\n",
              "    </tr>\n",
              "  </thead>\n",
              "  <tbody>\n",
              "    <tr>\n",
              "      <th>eggs</th>\n",
              "      <td>2</td>\n",
              "    </tr>\n",
              "    <tr>\n",
              "      <th>apples</th>\n",
              "      <td>6</td>\n",
              "    </tr>\n",
              "    <tr>\n",
              "      <th>milk</th>\n",
              "      <td>Yes</td>\n",
              "    </tr>\n",
              "    <tr>\n",
              "      <th>bread</th>\n",
              "      <td>No</td>\n",
              "    </tr>\n",
              "  </tbody>\n",
              "</table>\n",
              "</div><br><label><b>dtype:</b> object</label>"
            ]
          },
          "metadata": {},
          "execution_count": 8
        }
      ]
    },
    {
      "cell_type": "code",
      "source": [
        "#1.1.6. Delete Elements\n",
        "# Delete Elements\n",
        "# doesn't change the original Series being modified\n",
        "#groceries=groceries.drop('apples')\n",
        "#groceries\n",
        "#groceries.drop('bread')\n",
        "#groceries=groceries.drop('bread')\n",
        "# delete items from Series in place by setting keyword inplace to True\n",
        "groceries.drop('bread', inplace = True)\n",
        "\n",
        "groceries"
      ],
      "metadata": {
        "colab": {
          "base_uri": "https://localhost:8080/",
          "height": 178
        },
        "id": "YriPezBmdEJU",
        "outputId": "45026ae7-f506-44b6-f41e-c1067b980114"
      },
      "execution_count": 9,
      "outputs": [
        {
          "output_type": "execute_result",
          "data": {
            "text/plain": [
              "eggs        2\n",
              "apples      6\n",
              "milk      Yes\n",
              "dtype: object"
            ],
            "text/html": [
              "<div>\n",
              "<style scoped>\n",
              "    .dataframe tbody tr th:only-of-type {\n",
              "        vertical-align: middle;\n",
              "    }\n",
              "\n",
              "    .dataframe tbody tr th {\n",
              "        vertical-align: top;\n",
              "    }\n",
              "\n",
              "    .dataframe thead th {\n",
              "        text-align: right;\n",
              "    }\n",
              "</style>\n",
              "<table border=\"1\" class=\"dataframe\">\n",
              "  <thead>\n",
              "    <tr style=\"text-align: right;\">\n",
              "      <th></th>\n",
              "      <th>0</th>\n",
              "    </tr>\n",
              "  </thead>\n",
              "  <tbody>\n",
              "    <tr>\n",
              "      <th>eggs</th>\n",
              "      <td>2</td>\n",
              "    </tr>\n",
              "    <tr>\n",
              "      <th>apples</th>\n",
              "      <td>6</td>\n",
              "    </tr>\n",
              "    <tr>\n",
              "      <th>milk</th>\n",
              "      <td>Yes</td>\n",
              "    </tr>\n",
              "  </tbody>\n",
              "</table>\n",
              "</div><br><label><b>dtype:</b> object</label>"
            ]
          },
          "metadata": {},
          "execution_count": 9
        }
      ]
    },
    {
      "cell_type": "code",
      "source": [
        "#1.1.7. Arithmetic Operations\n",
        "# Arithmetic Operations\n",
        "# we can perform element-wise arithmetic operations on Pandas Series\n",
        "fruits = pd.Series(data = [10, 6, 3,], index = ['apples', 'oranges', 'bananas'])\n",
        "#fruits\n",
        "fruits=fruits/2\n",
        "\n",
        "#fruits# Adds 2 to all elements in the series\n",
        "#fruits - 2\n",
        "#fruits * 2\n",
        "#fruits / 2\n",
        "fruits"
      ],
      "metadata": {
        "colab": {
          "base_uri": "https://localhost:8080/",
          "height": 178
        },
        "id": "vxPC8twCdYtC",
        "outputId": "cd1c9ddd-bdda-4736-ef86-ee49197a3f33"
      },
      "execution_count": 11,
      "outputs": [
        {
          "output_type": "execute_result",
          "data": {
            "text/plain": [
              "apples     5.0\n",
              "oranges    3.0\n",
              "bananas    1.5\n",
              "dtype: float64"
            ],
            "text/html": [
              "<div>\n",
              "<style scoped>\n",
              "    .dataframe tbody tr th:only-of-type {\n",
              "        vertical-align: middle;\n",
              "    }\n",
              "\n",
              "    .dataframe tbody tr th {\n",
              "        vertical-align: top;\n",
              "    }\n",
              "\n",
              "    .dataframe thead th {\n",
              "        text-align: right;\n",
              "    }\n",
              "</style>\n",
              "<table border=\"1\" class=\"dataframe\">\n",
              "  <thead>\n",
              "    <tr style=\"text-align: right;\">\n",
              "      <th></th>\n",
              "      <th>0</th>\n",
              "    </tr>\n",
              "  </thead>\n",
              "  <tbody>\n",
              "    <tr>\n",
              "      <th>apples</th>\n",
              "      <td>5.0</td>\n",
              "    </tr>\n",
              "    <tr>\n",
              "      <th>oranges</th>\n",
              "      <td>3.0</td>\n",
              "    </tr>\n",
              "    <tr>\n",
              "      <th>bananas</th>\n",
              "      <td>1.5</td>\n",
              "    </tr>\n",
              "  </tbody>\n",
              "</table>\n",
              "</div><br><label><b>dtype:</b> float64</label>"
            ]
          },
          "metadata": {},
          "execution_count": 11
        }
      ]
    },
    {
      "cell_type": "code",
      "source": [
        "fruits[\"bananas\"]=fruits['bananas'] + 2\n",
        "print(fruits)\n",
        "print(fruits.iloc[0])\n",
        "print(fruits.apples)\n",
        "print(fruits[\"apples\"])\n",
        "print(fruits[0])\n",
        "print(fruits.loc[\"apples\"])"
      ],
      "metadata": {
        "colab": {
          "base_uri": "https://localhost:8080/"
        },
        "id": "UwIwAgApeAg1",
        "outputId": "5ef5e4aa-3689-44d6-b77b-dbca58dc7bfa"
      },
      "execution_count": 12,
      "outputs": [
        {
          "output_type": "stream",
          "name": "stdout",
          "text": [
            "apples     5.0\n",
            "oranges    3.0\n",
            "bananas    3.5\n",
            "dtype: float64\n",
            "5.0\n",
            "5.0\n",
            "5.0\n",
            "5.0\n",
            "5.0\n"
          ]
        },
        {
          "output_type": "stream",
          "name": "stderr",
          "text": [
            "<ipython-input-12-d848b919f8b0>:6: FutureWarning: Series.__getitem__ treating keys as positions is deprecated. In a future version, integer keys will always be treated as labels (consistent with DataFrame behavior). To access a value by position, use `ser.iloc[pos]`\n",
            "  print(fruits[0])\n"
          ]
        }
      ]
    },
    {
      "cell_type": "markdown",
      "source": [
        "**PANDAS DATAFRAME**"
      ],
      "metadata": {
        "id": "qGNt--puepIu"
      }
    },
    {
      "cell_type": "code",
      "source": [
        "# Converting a list into a DataFrame\n",
        "import pandas as pd\n",
        "list1 = [10, 20, 30, 40]\n",
        "table = pd.DataFrame(list1)\n",
        "print(table)"
      ],
      "metadata": {
        "colab": {
          "base_uri": "https://localhost:8080/"
        },
        "id": "c0rMvcNIewAq",
        "outputId": "6e8e0eff-d51c-4669-db00-59136c7d7890"
      },
      "execution_count": 13,
      "outputs": [
        {
          "output_type": "stream",
          "name": "stdout",
          "text": [
            "    0\n",
            "0  10\n",
            "1  20\n",
            "2  30\n",
            "3  40\n"
          ]
        }
      ]
    },
    {
      "cell_type": "code",
      "source": [
        "# Creating a DataFrame from a list of dictionaries\n",
        "import pandas as pd\n",
        "data = [{'a':1, 'b':2}, {'a':2, 'b':4, 'c':8}]\n",
        "table1 = pd.DataFrame(data)\n",
        "print(table1)\n",
        "\n",
        "# NaN (not a number) is stored in areas where no data is provided"
      ],
      "metadata": {
        "colab": {
          "base_uri": "https://localhost:8080/"
        },
        "id": "HSG7sYYUe8Ew",
        "outputId": "d45fc0a8-9ff1-47cf-e168-113081f4ca79"
      },
      "execution_count": 14,
      "outputs": [
        {
          "output_type": "stream",
          "name": "stdout",
          "text": [
            "   a  b    c\n",
            "0  1  2  NaN\n",
            "1  2  4  8.0\n"
          ]
        }
      ]
    },
    {
      "cell_type": "code",
      "source": [
        "# Creating a DataFrame from a list of dictionaries and accompaying row indices\n",
        "table2 = pd.DataFrame(data, index = ['first', 'second'])\n",
        "# Dict keys become column lables\n",
        "print(table2)"
      ],
      "metadata": {
        "colab": {
          "base_uri": "https://localhost:8080/"
        },
        "id": "c2CWI48sfCSW",
        "outputId": "459d2529-4771-4a80-bfe2-daef4ae6e967"
      },
      "execution_count": 15,
      "outputs": [
        {
          "output_type": "stream",
          "name": "stdout",
          "text": [
            "        a  b    c\n",
            "first   1  2  NaN\n",
            "second  2  4  8.0\n"
          ]
        }
      ]
    },
    {
      "cell_type": "code",
      "source": [
        "import pandas as pd\n",
        "# create a dictionary of Pandas Series\n",
        "items = {'Bob' : pd.Series(data = [245, 25, 55], index = ['bike', 'pants', 'watch']),\n",
        "         'Alice' : pd.Series(data = [40, 110, 500, 45], index = ['book', 'glasses', 'bike', 'pants'])}\n",
        "\n",
        "# print the type of items to see that it is a dictionary\n",
        "print(type(items)) # class 'dict'\n",
        "print(items)"
      ],
      "metadata": {
        "colab": {
          "base_uri": "https://localhost:8080/"
        },
        "id": "SABdkZDQfOM1",
        "outputId": "3d0ec015-f542-4176-81eb-c1e734e9455e"
      },
      "execution_count": 16,
      "outputs": [
        {
          "output_type": "stream",
          "name": "stdout",
          "text": [
            "<class 'dict'>\n",
            "{'Bob': bike     245\n",
            "pants     25\n",
            "watch     55\n",
            "dtype: int64, 'Alice': book        40\n",
            "glasses    110\n",
            "bike       500\n",
            "pants       45\n",
            "dtype: int64}\n"
          ]
        }
      ]
    },
    {
      "cell_type": "code",
      "source": [
        "shopping_carts = pd.DataFrame(items)\n",
        "print(shopping_carts)\n",
        "print('shopping_carts has shape:', shopping_carts.shape)\n",
        "print('shopping_carts has dimension:', shopping_carts.ndim)\n",
        "print('shopping_carts has a total of:', shopping_carts.size)\n",
        "print()\n",
        "print('The data in shopping_carts is:\\n', shopping_carts.values)\n",
        "print()\n",
        "print('The row index in shopping_carts is:', shopping_carts.index)\n",
        "print()\n",
        "print('The column index in shopping_carts is:', shopping_carts.columns)\n",
        "#print(shopping_carts.columns)"
      ],
      "metadata": {
        "colab": {
          "base_uri": "https://localhost:8080/"
        },
        "id": "nrWIc8U1fgFn",
        "outputId": "6d246f7f-7358-4c79-f8d3-8b70eda08cf0"
      },
      "execution_count": 17,
      "outputs": [
        {
          "output_type": "stream",
          "name": "stdout",
          "text": [
            "           Bob  Alice\n",
            "bike     245.0  500.0\n",
            "book       NaN   40.0\n",
            "glasses    NaN  110.0\n",
            "pants     25.0   45.0\n",
            "watch     55.0    NaN\n",
            "shopping_carts has shape: (5, 2)\n",
            "shopping_carts has dimension: 2\n",
            "shopping_carts has a total of: 10\n",
            "\n",
            "The data in shopping_carts is:\n",
            " [[245. 500.]\n",
            " [ nan  40.]\n",
            " [ nan 110.]\n",
            " [ 25.  45.]\n",
            " [ 55.  nan]]\n",
            "\n",
            "The row index in shopping_carts is: Index(['bike', 'book', 'glasses', 'pants', 'watch'], dtype='object')\n",
            "\n",
            "The column index in shopping_carts is: Index(['Bob', 'Alice'], dtype='object')\n"
          ]
        }
      ]
    },
    {
      "cell_type": "code",
      "source": [
        "# Create dictionary from a bunch of Series/data\n",
        "import numpy as np\n",
        "books = pd.Series(data = ['Great Expectations', 'Of Mice and Men', 'Romeo and Juliet', 'The Time Machine', 'Alice in Wonderland' ])\n",
        "authors = pd.Series(data = ['Charles Dickens', 'John Steinbeck', 'William Shakespeare', ' H. G. Wells', 'Lewis Carroll' ])\n",
        "user_1 = pd.Series(data = [3.2, np.nan ,2.5])\n",
        "user_2 = pd.Series(data = [5., 1.3, 4.0, 3.8])\n",
        "user_3 = pd.Series(data = [2.0, 2.3, np.nan, 4])\n",
        "user_4 = pd.Series(data = [4, 3.5, 4, 5, 4.2])\n",
        "\n",
        "# Create a dictionary with the data given above\n",
        "a_dict = {'Author':authors,'Book Title':books,'User 1':user_1, 'User 2':user_2, 'User 3':user_3, 'User 4':user_4}\n",
        "\n",
        "# Use the dictionary to create a Pandas DataFrame\n",
        "book_ratings = pd.DataFrame(a_dict)\n",
        "#a=book_ratings[:2]\n",
        "book_ratings"
      ],
      "metadata": {
        "colab": {
          "base_uri": "https://localhost:8080/",
          "height": 206
        },
        "id": "FMoQi6rDfudc",
        "outputId": "31e7624d-3d6a-4e8b-efc9-911a09841896"
      },
      "execution_count": 18,
      "outputs": [
        {
          "output_type": "execute_result",
          "data": {
            "text/plain": [
              "                Author           Book Title  User 1  User 2  User 3  User 4\n",
              "0      Charles Dickens   Great Expectations     3.2     5.0     2.0     4.0\n",
              "1       John Steinbeck      Of Mice and Men     NaN     1.3     2.3     3.5\n",
              "2  William Shakespeare     Romeo and Juliet     2.5     4.0     NaN     4.0\n",
              "3          H. G. Wells     The Time Machine     NaN     3.8     4.0     5.0\n",
              "4        Lewis Carroll  Alice in Wonderland     NaN     NaN     NaN     4.2"
            ],
            "text/html": [
              "\n",
              "  <div id=\"df-e5aa318b-9c31-4d04-9fff-a58c1b6ea28e\" class=\"colab-df-container\">\n",
              "    <div>\n",
              "<style scoped>\n",
              "    .dataframe tbody tr th:only-of-type {\n",
              "        vertical-align: middle;\n",
              "    }\n",
              "\n",
              "    .dataframe tbody tr th {\n",
              "        vertical-align: top;\n",
              "    }\n",
              "\n",
              "    .dataframe thead th {\n",
              "        text-align: right;\n",
              "    }\n",
              "</style>\n",
              "<table border=\"1\" class=\"dataframe\">\n",
              "  <thead>\n",
              "    <tr style=\"text-align: right;\">\n",
              "      <th></th>\n",
              "      <th>Author</th>\n",
              "      <th>Book Title</th>\n",
              "      <th>User 1</th>\n",
              "      <th>User 2</th>\n",
              "      <th>User 3</th>\n",
              "      <th>User 4</th>\n",
              "    </tr>\n",
              "  </thead>\n",
              "  <tbody>\n",
              "    <tr>\n",
              "      <th>0</th>\n",
              "      <td>Charles Dickens</td>\n",
              "      <td>Great Expectations</td>\n",
              "      <td>3.2</td>\n",
              "      <td>5.0</td>\n",
              "      <td>2.0</td>\n",
              "      <td>4.0</td>\n",
              "    </tr>\n",
              "    <tr>\n",
              "      <th>1</th>\n",
              "      <td>John Steinbeck</td>\n",
              "      <td>Of Mice and Men</td>\n",
              "      <td>NaN</td>\n",
              "      <td>1.3</td>\n",
              "      <td>2.3</td>\n",
              "      <td>3.5</td>\n",
              "    </tr>\n",
              "    <tr>\n",
              "      <th>2</th>\n",
              "      <td>William Shakespeare</td>\n",
              "      <td>Romeo and Juliet</td>\n",
              "      <td>2.5</td>\n",
              "      <td>4.0</td>\n",
              "      <td>NaN</td>\n",
              "      <td>4.0</td>\n",
              "    </tr>\n",
              "    <tr>\n",
              "      <th>3</th>\n",
              "      <td>H. G. Wells</td>\n",
              "      <td>The Time Machine</td>\n",
              "      <td>NaN</td>\n",
              "      <td>3.8</td>\n",
              "      <td>4.0</td>\n",
              "      <td>5.0</td>\n",
              "    </tr>\n",
              "    <tr>\n",
              "      <th>4</th>\n",
              "      <td>Lewis Carroll</td>\n",
              "      <td>Alice in Wonderland</td>\n",
              "      <td>NaN</td>\n",
              "      <td>NaN</td>\n",
              "      <td>NaN</td>\n",
              "      <td>4.2</td>\n",
              "    </tr>\n",
              "  </tbody>\n",
              "</table>\n",
              "</div>\n",
              "    <div class=\"colab-df-buttons\">\n",
              "\n",
              "  <div class=\"colab-df-container\">\n",
              "    <button class=\"colab-df-convert\" onclick=\"convertToInteractive('df-e5aa318b-9c31-4d04-9fff-a58c1b6ea28e')\"\n",
              "            title=\"Convert this dataframe to an interactive table.\"\n",
              "            style=\"display:none;\">\n",
              "\n",
              "  <svg xmlns=\"http://www.w3.org/2000/svg\" height=\"24px\" viewBox=\"0 -960 960 960\">\n",
              "    <path d=\"M120-120v-720h720v720H120Zm60-500h600v-160H180v160Zm220 220h160v-160H400v160Zm0 220h160v-160H400v160ZM180-400h160v-160H180v160Zm440 0h160v-160H620v160ZM180-180h160v-160H180v160Zm440 0h160v-160H620v160Z\"/>\n",
              "  </svg>\n",
              "    </button>\n",
              "\n",
              "  <style>\n",
              "    .colab-df-container {\n",
              "      display:flex;\n",
              "      gap: 12px;\n",
              "    }\n",
              "\n",
              "    .colab-df-convert {\n",
              "      background-color: #E8F0FE;\n",
              "      border: none;\n",
              "      border-radius: 50%;\n",
              "      cursor: pointer;\n",
              "      display: none;\n",
              "      fill: #1967D2;\n",
              "      height: 32px;\n",
              "      padding: 0 0 0 0;\n",
              "      width: 32px;\n",
              "    }\n",
              "\n",
              "    .colab-df-convert:hover {\n",
              "      background-color: #E2EBFA;\n",
              "      box-shadow: 0px 1px 2px rgba(60, 64, 67, 0.3), 0px 1px 3px 1px rgba(60, 64, 67, 0.15);\n",
              "      fill: #174EA6;\n",
              "    }\n",
              "\n",
              "    .colab-df-buttons div {\n",
              "      margin-bottom: 4px;\n",
              "    }\n",
              "\n",
              "    [theme=dark] .colab-df-convert {\n",
              "      background-color: #3B4455;\n",
              "      fill: #D2E3FC;\n",
              "    }\n",
              "\n",
              "    [theme=dark] .colab-df-convert:hover {\n",
              "      background-color: #434B5C;\n",
              "      box-shadow: 0px 1px 3px 1px rgba(0, 0, 0, 0.15);\n",
              "      filter: drop-shadow(0px 1px 2px rgba(0, 0, 0, 0.3));\n",
              "      fill: #FFFFFF;\n",
              "    }\n",
              "  </style>\n",
              "\n",
              "    <script>\n",
              "      const buttonEl =\n",
              "        document.querySelector('#df-e5aa318b-9c31-4d04-9fff-a58c1b6ea28e button.colab-df-convert');\n",
              "      buttonEl.style.display =\n",
              "        google.colab.kernel.accessAllowed ? 'block' : 'none';\n",
              "\n",
              "      async function convertToInteractive(key) {\n",
              "        const element = document.querySelector('#df-e5aa318b-9c31-4d04-9fff-a58c1b6ea28e');\n",
              "        const dataTable =\n",
              "          await google.colab.kernel.invokeFunction('convertToInteractive',\n",
              "                                                    [key], {});\n",
              "        if (!dataTable) return;\n",
              "\n",
              "        const docLinkHtml = 'Like what you see? Visit the ' +\n",
              "          '<a target=\"_blank\" href=https://colab.research.google.com/notebooks/data_table.ipynb>data table notebook</a>'\n",
              "          + ' to learn more about interactive tables.';\n",
              "        element.innerHTML = '';\n",
              "        dataTable['output_type'] = 'display_data';\n",
              "        await google.colab.output.renderOutput(dataTable, element);\n",
              "        const docLink = document.createElement('div');\n",
              "        docLink.innerHTML = docLinkHtml;\n",
              "        element.appendChild(docLink);\n",
              "      }\n",
              "    </script>\n",
              "  </div>\n",
              "\n",
              "\n",
              "    <div id=\"df-58a54b72-4151-44a7-aefa-2a9776128b22\">\n",
              "      <button class=\"colab-df-quickchart\" onclick=\"quickchart('df-58a54b72-4151-44a7-aefa-2a9776128b22')\"\n",
              "                title=\"Suggest charts\"\n",
              "                style=\"display:none;\">\n",
              "\n",
              "<svg xmlns=\"http://www.w3.org/2000/svg\" height=\"24px\"viewBox=\"0 0 24 24\"\n",
              "     width=\"24px\">\n",
              "    <g>\n",
              "        <path d=\"M19 3H5c-1.1 0-2 .9-2 2v14c0 1.1.9 2 2 2h14c1.1 0 2-.9 2-2V5c0-1.1-.9-2-2-2zM9 17H7v-7h2v7zm4 0h-2V7h2v10zm4 0h-2v-4h2v4z\"/>\n",
              "    </g>\n",
              "</svg>\n",
              "      </button>\n",
              "\n",
              "<style>\n",
              "  .colab-df-quickchart {\n",
              "      --bg-color: #E8F0FE;\n",
              "      --fill-color: #1967D2;\n",
              "      --hover-bg-color: #E2EBFA;\n",
              "      --hover-fill-color: #174EA6;\n",
              "      --disabled-fill-color: #AAA;\n",
              "      --disabled-bg-color: #DDD;\n",
              "  }\n",
              "\n",
              "  [theme=dark] .colab-df-quickchart {\n",
              "      --bg-color: #3B4455;\n",
              "      --fill-color: #D2E3FC;\n",
              "      --hover-bg-color: #434B5C;\n",
              "      --hover-fill-color: #FFFFFF;\n",
              "      --disabled-bg-color: #3B4455;\n",
              "      --disabled-fill-color: #666;\n",
              "  }\n",
              "\n",
              "  .colab-df-quickchart {\n",
              "    background-color: var(--bg-color);\n",
              "    border: none;\n",
              "    border-radius: 50%;\n",
              "    cursor: pointer;\n",
              "    display: none;\n",
              "    fill: var(--fill-color);\n",
              "    height: 32px;\n",
              "    padding: 0;\n",
              "    width: 32px;\n",
              "  }\n",
              "\n",
              "  .colab-df-quickchart:hover {\n",
              "    background-color: var(--hover-bg-color);\n",
              "    box-shadow: 0 1px 2px rgba(60, 64, 67, 0.3), 0 1px 3px 1px rgba(60, 64, 67, 0.15);\n",
              "    fill: var(--button-hover-fill-color);\n",
              "  }\n",
              "\n",
              "  .colab-df-quickchart-complete:disabled,\n",
              "  .colab-df-quickchart-complete:disabled:hover {\n",
              "    background-color: var(--disabled-bg-color);\n",
              "    fill: var(--disabled-fill-color);\n",
              "    box-shadow: none;\n",
              "  }\n",
              "\n",
              "  .colab-df-spinner {\n",
              "    border: 2px solid var(--fill-color);\n",
              "    border-color: transparent;\n",
              "    border-bottom-color: var(--fill-color);\n",
              "    animation:\n",
              "      spin 1s steps(1) infinite;\n",
              "  }\n",
              "\n",
              "  @keyframes spin {\n",
              "    0% {\n",
              "      border-color: transparent;\n",
              "      border-bottom-color: var(--fill-color);\n",
              "      border-left-color: var(--fill-color);\n",
              "    }\n",
              "    20% {\n",
              "      border-color: transparent;\n",
              "      border-left-color: var(--fill-color);\n",
              "      border-top-color: var(--fill-color);\n",
              "    }\n",
              "    30% {\n",
              "      border-color: transparent;\n",
              "      border-left-color: var(--fill-color);\n",
              "      border-top-color: var(--fill-color);\n",
              "      border-right-color: var(--fill-color);\n",
              "    }\n",
              "    40% {\n",
              "      border-color: transparent;\n",
              "      border-right-color: var(--fill-color);\n",
              "      border-top-color: var(--fill-color);\n",
              "    }\n",
              "    60% {\n",
              "      border-color: transparent;\n",
              "      border-right-color: var(--fill-color);\n",
              "    }\n",
              "    80% {\n",
              "      border-color: transparent;\n",
              "      border-right-color: var(--fill-color);\n",
              "      border-bottom-color: var(--fill-color);\n",
              "    }\n",
              "    90% {\n",
              "      border-color: transparent;\n",
              "      border-bottom-color: var(--fill-color);\n",
              "    }\n",
              "  }\n",
              "</style>\n",
              "\n",
              "      <script>\n",
              "        async function quickchart(key) {\n",
              "          const quickchartButtonEl =\n",
              "            document.querySelector('#' + key + ' button');\n",
              "          quickchartButtonEl.disabled = true;  // To prevent multiple clicks.\n",
              "          quickchartButtonEl.classList.add('colab-df-spinner');\n",
              "          try {\n",
              "            const charts = await google.colab.kernel.invokeFunction(\n",
              "                'suggestCharts', [key], {});\n",
              "          } catch (error) {\n",
              "            console.error('Error during call to suggestCharts:', error);\n",
              "          }\n",
              "          quickchartButtonEl.classList.remove('colab-df-spinner');\n",
              "          quickchartButtonEl.classList.add('colab-df-quickchart-complete');\n",
              "        }\n",
              "        (() => {\n",
              "          let quickchartButtonEl =\n",
              "            document.querySelector('#df-58a54b72-4151-44a7-aefa-2a9776128b22 button');\n",
              "          quickchartButtonEl.style.display =\n",
              "            google.colab.kernel.accessAllowed ? 'block' : 'none';\n",
              "        })();\n",
              "      </script>\n",
              "    </div>\n",
              "\n",
              "  <div id=\"id_bf792f3e-5cf9-443d-9196-a2e49445325a\">\n",
              "    <style>\n",
              "      .colab-df-generate {\n",
              "        background-color: #E8F0FE;\n",
              "        border: none;\n",
              "        border-radius: 50%;\n",
              "        cursor: pointer;\n",
              "        display: none;\n",
              "        fill: #1967D2;\n",
              "        height: 32px;\n",
              "        padding: 0 0 0 0;\n",
              "        width: 32px;\n",
              "      }\n",
              "\n",
              "      .colab-df-generate:hover {\n",
              "        background-color: #E2EBFA;\n",
              "        box-shadow: 0px 1px 2px rgba(60, 64, 67, 0.3), 0px 1px 3px 1px rgba(60, 64, 67, 0.15);\n",
              "        fill: #174EA6;\n",
              "      }\n",
              "\n",
              "      [theme=dark] .colab-df-generate {\n",
              "        background-color: #3B4455;\n",
              "        fill: #D2E3FC;\n",
              "      }\n",
              "\n",
              "      [theme=dark] .colab-df-generate:hover {\n",
              "        background-color: #434B5C;\n",
              "        box-shadow: 0px 1px 3px 1px rgba(0, 0, 0, 0.15);\n",
              "        filter: drop-shadow(0px 1px 2px rgba(0, 0, 0, 0.3));\n",
              "        fill: #FFFFFF;\n",
              "      }\n",
              "    </style>\n",
              "    <button class=\"colab-df-generate\" onclick=\"generateWithVariable('book_ratings')\"\n",
              "            title=\"Generate code using this dataframe.\"\n",
              "            style=\"display:none;\">\n",
              "\n",
              "  <svg xmlns=\"http://www.w3.org/2000/svg\" height=\"24px\"viewBox=\"0 0 24 24\"\n",
              "       width=\"24px\">\n",
              "    <path d=\"M7,19H8.4L18.45,9,17,7.55,7,17.6ZM5,21V16.75L18.45,3.32a2,2,0,0,1,2.83,0l1.4,1.43a1.91,1.91,0,0,1,.58,1.4,1.91,1.91,0,0,1-.58,1.4L9.25,21ZM18.45,9,17,7.55Zm-12,3A5.31,5.31,0,0,0,4.9,8.1,5.31,5.31,0,0,0,1,6.5,5.31,5.31,0,0,0,4.9,4.9,5.31,5.31,0,0,0,6.5,1,5.31,5.31,0,0,0,8.1,4.9,5.31,5.31,0,0,0,12,6.5,5.46,5.46,0,0,0,6.5,12Z\"/>\n",
              "  </svg>\n",
              "    </button>\n",
              "    <script>\n",
              "      (() => {\n",
              "      const buttonEl =\n",
              "        document.querySelector('#id_bf792f3e-5cf9-443d-9196-a2e49445325a button.colab-df-generate');\n",
              "      buttonEl.style.display =\n",
              "        google.colab.kernel.accessAllowed ? 'block' : 'none';\n",
              "\n",
              "      buttonEl.onclick = () => {\n",
              "        google.colab.notebook.generateWithVariable('book_ratings');\n",
              "      }\n",
              "      })();\n",
              "    </script>\n",
              "  </div>\n",
              "\n",
              "    </div>\n",
              "  </div>\n"
            ],
            "application/vnd.google.colaboratory.intrinsic+json": {
              "type": "dataframe",
              "variable_name": "book_ratings",
              "summary": "{\n  \"name\": \"book_ratings\",\n  \"rows\": 5,\n  \"fields\": [\n    {\n      \"column\": \"Author\",\n      \"properties\": {\n        \"dtype\": \"string\",\n        \"num_unique_values\": 5,\n        \"samples\": [\n          \"John Steinbeck\",\n          \"Lewis Carroll\",\n          \"William Shakespeare\"\n        ],\n        \"semantic_type\": \"\",\n        \"description\": \"\"\n      }\n    },\n    {\n      \"column\": \"Book Title\",\n      \"properties\": {\n        \"dtype\": \"string\",\n        \"num_unique_values\": 5,\n        \"samples\": [\n          \"Of Mice and Men\",\n          \"Alice in Wonderland\",\n          \"Romeo and Juliet\"\n        ],\n        \"semantic_type\": \"\",\n        \"description\": \"\"\n      }\n    },\n    {\n      \"column\": \"User 1\",\n      \"properties\": {\n        \"dtype\": \"number\",\n        \"std\": 0.4949747468305834,\n        \"min\": 2.5,\n        \"max\": 3.2,\n        \"num_unique_values\": 2,\n        \"samples\": [\n          2.5,\n          3.2\n        ],\n        \"semantic_type\": \"\",\n        \"description\": \"\"\n      }\n    },\n    {\n      \"column\": \"User 2\",\n      \"properties\": {\n        \"dtype\": \"number\",\n        \"std\": 1.573478100684383,\n        \"min\": 1.3,\n        \"max\": 5.0,\n        \"num_unique_values\": 4,\n        \"samples\": [\n          1.3,\n          3.8\n        ],\n        \"semantic_type\": \"\",\n        \"description\": \"\"\n      }\n    },\n    {\n      \"column\": \"User 3\",\n      \"properties\": {\n        \"dtype\": \"number\",\n        \"std\": 1.0785793124908958,\n        \"min\": 2.0,\n        \"max\": 4.0,\n        \"num_unique_values\": 3,\n        \"samples\": [\n          2.0,\n          2.3\n        ],\n        \"semantic_type\": \"\",\n        \"description\": \"\"\n      }\n    },\n    {\n      \"column\": \"User 4\",\n      \"properties\": {\n        \"dtype\": \"number\",\n        \"std\": 0.5458937625582472,\n        \"min\": 3.5,\n        \"max\": 5.0,\n        \"num_unique_values\": 4,\n        \"samples\": [\n          3.5,\n          4.2\n        ],\n        \"semantic_type\": \"\",\n        \"description\": \"\"\n      }\n    }\n  ]\n}"
            }
          },
          "metadata": {},
          "execution_count": 18
        }
      ]
    }
  ],
  "metadata": {
    "colab": {
      "provenance": [],
      "include_colab_link": true
    },
    "kernelspec": {
      "display_name": "Python 3",
      "name": "python3"
    }
  },
  "nbformat": 4,
  "nbformat_minor": 0
}