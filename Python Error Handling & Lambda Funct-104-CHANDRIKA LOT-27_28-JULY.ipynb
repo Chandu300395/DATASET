{
 "cells": [
  {
   "cell_type": "code",
   "execution_count": 5,
   "metadata": {
    "colab": {
     "base_uri": "https://localhost:8080/",
     "height": 106
    },
    "executionInfo": {
     "elapsed": 545,
     "status": "error",
     "timestamp": 1729079872101,
     "user": {
      "displayName": "chandrika jethva",
      "userId": "02489238033117879225"
     },
     "user_tz": -330
    },
    "id": "SPilUEPnLTEq",
    "outputId": "7bf129e4-3c14-442e-b968-3190fcd53bd6"
   },
   "outputs": [
    {
     "ename": "IndentationError",
     "evalue": "unexpected indent (<ipython-input-5-dbcbeb22400d>, line 4)",
     "output_type": "error",
     "traceback": [
      "\u001b[0;36m  File \u001b[0;32m\"<ipython-input-5-dbcbeb22400d>\"\u001b[0;36m, line \u001b[0;32m4\u001b[0m\n\u001b[0;31m    print(a+b)\u001b[0m\n\u001b[0m    ^\u001b[0m\n\u001b[0;31mIndentationError\u001b[0m\u001b[0;31m:\u001b[0m unexpected indent\n"
     ]
    }
   ],
   "source": [
    "#Error Handling\n",
    "a=5\n",
    "b=\"hi\"\n",
    "  print(a+b)"
   ]
  },
  {
   "cell_type": "markdown",
   "metadata": {
    "id": "yXWp5wpWMXmk"
   },
   "source": [
    "in above program error is Indentation erro so we can used except function for error handling"
   ]
  },
  {
   "cell_type": "code",
   "execution_count": 10,
   "metadata": {
    "colab": {
     "base_uri": "https://localhost:8080/"
    },
    "executionInfo": {
     "elapsed": 569,
     "status": "ok",
     "timestamp": 1729080195639,
     "user": {
      "displayName": "chandrika jethva",
      "userId": "02489238033117879225"
     },
     "user_tz": -330
    },
    "id": "lCb_fJneMi94",
    "outputId": "fa6efebd-4113-4aab-ace6-e841ba53196a"
   },
   "outputs": [
    {
     "name": "stdout",
     "output_type": "stream",
     "text": [
      "This is type error\n"
     ]
    }
   ],
   "source": [
    "a=5\n",
    "b=\"hi\"\n",
    "try:\n",
    "  print(a+b)\n",
    "except TypeError:\n",
    "  print(\"This is type error\")"
   ]
  },
  {
   "cell_type": "code",
   "execution_count": 18,
   "metadata": {
    "colab": {
     "base_uri": "https://localhost:8080/"
    },
    "executionInfo": {
     "elapsed": 508,
     "status": "ok",
     "timestamp": 1729080516672,
     "user": {
      "displayName": "chandrika jethva",
      "userId": "02489238033117879225"
     },
     "user_tz": -330
    },
    "id": "bt0Z7QdsM2gF",
    "outputId": "11b62a86-f498-44aa-e849-60303dc95fa7"
   },
   "outputs": [
    {
     "name": "stdout",
     "output_type": "stream",
     "text": [
      "This is zero division error\n"
     ]
    }
   ],
   "source": [
    "a=10\n",
    "b=0\n",
    "try:\n",
    "  c=a/b\n",
    "  print(c)\n",
    "except ZeroDivisionError:\n",
    "  print(\"This is zero division error\")"
   ]
  },
  {
   "cell_type": "code",
   "execution_count": 26,
   "metadata": {
    "colab": {
     "base_uri": "https://localhost:8080/"
    },
    "executionInfo": {
     "elapsed": 504,
     "status": "ok",
     "timestamp": 1729081051447,
     "user": {
      "displayName": "chandrika jethva",
      "userId": "02489238033117879225"
     },
     "user_tz": -330
    },
    "id": "o9r4IJD-O0VQ",
    "outputId": "6421f512-1950-4d07-e2ce-f292af59556f"
   },
   "outputs": [
    {
     "name": "stdout",
     "output_type": "stream",
     "text": [
      "This is index error\n",
      "the end\n"
     ]
    }
   ],
   "source": [
    "mylist=[1,2,3,4,5,6]\n",
    "try:\n",
    "  print(mylist[10])\n",
    "except IndexError:\n",
    "  print(\"This is index error\")\n",
    "finally:\n",
    "    print(\"the end\")"
   ]
  },
  {
   "cell_type": "code",
   "execution_count": 1,
   "metadata": {
    "colab": {
     "base_uri": "https://localhost:8080/"
    },
    "executionInfo": {
     "elapsed": 604,
     "status": "ok",
     "timestamp": 1729079546294,
     "user": {
      "displayName": "chandrika jethva",
      "userId": "02489238033117879225"
     },
     "user_tz": -330
    },
    "id": "ig7ygJV9K6wa",
    "outputId": "043e2a93-6fb6-4ba5-8c01-c4a49477288b"
   },
   "outputs": [
    {
     "name": "stdout",
     "output_type": "stream",
     "text": [
      "16\n"
     ]
    }
   ],
   "source": [
    "#lambdda\n",
    "x=lambda a:a+10\n",
    "print(x(6))"
   ]
  },
  {
   "cell_type": "code",
   "execution_count": 2,
   "metadata": {
    "colab": {
     "base_uri": "https://localhost:8080/"
    },
    "executionInfo": {
     "elapsed": 564,
     "status": "ok",
     "timestamp": 1729079554516,
     "user": {
      "displayName": "chandrika jethva",
      "userId": "02489238033117879225"
     },
     "user_tz": -330
    },
    "id": "28r19qV_K_V1",
    "outputId": "3d8033a3-ce74-43ab-9372-0e4c47ef40ed"
   },
   "outputs": [
    {
     "name": "stdout",
     "output_type": "stream",
     "text": [
      "2.0\n"
     ]
    }
   ],
   "source": [
    "x=lambda a,b:a/b\n",
    "print(x(10,5))"
   ]
  },
  {
   "cell_type": "code",
   "execution_count": 3,
   "metadata": {
    "colab": {
     "base_uri": "https://localhost:8080/"
    },
    "executionInfo": {
     "elapsed": 568,
     "status": "ok",
     "timestamp": 1729079557592,
     "user": {
      "displayName": "chandrika jethva",
      "userId": "02489238033117879225"
     },
     "user_tz": -330
    },
    "id": "X58QkD49LCEe",
    "outputId": "245329e2-13b4-48b6-b302-aee4ff6a5438"
   },
   "outputs": [
    {
     "name": "stdout",
     "output_type": "stream",
     "text": [
      "55\n"
     ]
    }
   ],
   "source": [
    "def my_function(n):\n",
    "  return lambda a:a*n\n",
    "mydoubler = my_function(5)\n",
    "print(mydoubler(11))"
   ]
  },
  {
   "cell_type": "code",
   "execution_count": 1,
   "metadata": {
    "colab": {
     "base_uri": "https://localhost:8080/"
    },
    "executionInfo": {
     "elapsed": 427,
     "status": "ok",
     "timestamp": 1729137951143,
     "user": {
      "displayName": "chandrika jethva",
      "userId": "02489238033117879225"
     },
     "user_tz": -330
    },
    "id": "2BBTvZ_Xpk9H",
    "outputId": "7b24d061-0c08-49eb-aa38-ccd34397df11"
   },
   "outputs": [
    {
     "name": "stdout",
     "output_type": "stream",
     "text": [
      "7.25\n"
     ]
    }
   ],
   "source": [
    "#python built in function\n",
    "x=abs(-7.25)\n",
    "print(x)"
   ]
  },
  {
   "cell_type": "code",
   "execution_count": 5,
   "metadata": {
    "colab": {
     "base_uri": "https://localhost:8080/"
    },
    "executionInfo": {
     "elapsed": 398,
     "status": "ok",
     "timestamp": 1729138184445,
     "user": {
      "displayName": "chandrika jethva",
      "userId": "02489238033117879225"
     },
     "user_tz": -330
    },
    "id": "lqu1z_RMqiqd",
    "outputId": "243d51a6-3306-4e6c-f28c-f9615af937c9"
   },
   "outputs": [
    {
     "name": "stdout",
     "output_type": "stream",
     "text": [
      "9\n"
     ]
    }
   ],
   "source": [
    "x=\"chandrika\"\n",
    "print(len(x))"
   ]
  },
  {
   "cell_type": "code",
   "execution_count": 23,
   "metadata": {
    "colab": {
     "base_uri": "https://localhost:8080/"
    },
    "executionInfo": {
     "elapsed": 412,
     "status": "ok",
     "timestamp": 1729153214001,
     "user": {
      "displayName": "chandrika jethva",
      "userId": "02489238033117879225"
     },
     "user_tz": -330
    },
    "id": "lLBWzNF6quIp",
    "outputId": "26d45620-b6b7-47d7-e2e0-8ac8803b7b06"
   },
   "outputs": [
    {
     "name": "stdout",
     "output_type": "stream",
     "text": [
      "9\n",
      "1\n",
      "32\n",
      "[1, 3, 5, 6, 8, 9]\n",
      "0b1001\n",
      "0xf\n",
      "0o10\n"
     ]
    }
   ],
   "source": [
    "a={1,5,3,6,9,8}\n",
    "print(max(a))\n",
    "print(min(a))\n",
    "print(sum(a))\n",
    "print(sorted(a))\n",
    "print(bin(9))\n",
    "print(hex(15))\n",
    "print(oct(8))\n"
   ]
  },
  {
   "cell_type": "code",
   "execution_count": 8,
   "metadata": {
    "colab": {
     "base_uri": "https://localhost:8080/"
    },
    "executionInfo": {
     "elapsed": 437,
     "status": "ok",
     "timestamp": 1729138353852,
     "user": {
      "displayName": "chandrika jethva",
      "userId": "02489238033117879225"
     },
     "user_tz": -330
    },
    "id": "F1TTMSopq5lE",
    "outputId": "9047c07f-72c9-461d-f26e-e16a1dc1bdfe"
   },
   "outputs": [
    {
     "name": "stdout",
     "output_type": "stream",
     "text": [
      "['a', 'a', 'c', 'd', 'h', 'i', 'k', 'n', 'r']\n"
     ]
    }
   ],
   "source": [
    "a=\"chandrika\"\n",
    "print(sorted(a))"
   ]
  },
  {
   "cell_type": "code",
   "execution_count": 13,
   "metadata": {
    "colab": {
     "base_uri": "https://localhost:8080/"
    },
    "executionInfo": {
     "elapsed": 417,
     "status": "ok",
     "timestamp": 1729143986948,
     "user": {
      "displayName": "chandrika jethva",
      "userId": "02489238033117879225"
     },
     "user_tz": -330
    },
    "id": "qONL-z-JAUW0",
    "outputId": "a244528f-9b11-42eb-c59b-80b2ecb2a227"
   },
   "outputs": [
    {
     "name": "stdout",
     "output_type": "stream",
     "text": [
      "0\n",
      "1\n",
      "2\n",
      "3\n",
      "4\n"
     ]
    }
   ],
   "source": [
    "for i in range(5):\n",
    "  print(i)"
   ]
  },
  {
   "cell_type": "code",
   "execution_count": 16,
   "metadata": {
    "executionInfo": {
     "elapsed": 441,
     "status": "ok",
     "timestamp": 1729152653254,
     "user": {
      "displayName": "chandrika jethva",
      "userId": "02489238033117879225"
     },
     "user_tz": -330
    },
    "id": "ue4rao4cIZd-"
   },
   "outputs": [],
   "source": [
    "a={\"a\",\"b\",\"c\"}\n",
    "b={\"a\",\"c\",\"b\",\"e\",\"g\"}"
   ]
  },
  {
   "cell_type": "code",
   "execution_count": 18,
   "metadata": {
    "colab": {
     "base_uri": "https://localhost:8080/"
    },
    "executionInfo": {
     "elapsed": 405,
     "status": "ok",
     "timestamp": 1729152671741,
     "user": {
      "displayName": "chandrika jethva",
      "userId": "02489238033117879225"
     },
     "user_tz": -330
    },
    "id": "bHL_KK-Ah6P8",
    "outputId": "b5402756-11c2-4ff9-d532-ca945baa15e1"
   },
   "outputs": [
    {
     "name": "stdout",
     "output_type": "stream",
     "text": [
      "True\n"
     ]
    }
   ],
   "source": [
    "z=a.issubset(b)\n",
    "print(z)"
   ]
  },
  {
   "cell_type": "code",
   "execution_count": 19,
   "metadata": {
    "colab": {
     "base_uri": "https://localhost:8080/"
    },
    "executionInfo": {
     "elapsed": 501,
     "status": "ok",
     "timestamp": 1729152897867,
     "user": {
      "displayName": "chandrika jethva",
      "userId": "02489238033117879225"
     },
     "user_tz": -330
    },
    "id": "Zy5kZ1hviv9e",
    "outputId": "53a859c3-0759-431e-9718-7d36f9b25e50"
   },
   "outputs": [
    {
     "name": "stdout",
     "output_type": "stream",
     "text": [
      "False\n"
     ]
    }
   ],
   "source": [
    "z=a.issuperset(b)\n",
    "print(z)"
   ]
  }
 ],
 "metadata": {
  "colab": {
   "authorship_tag": "ABX9TyNaUqwnHjPSXghayzL4cQid",
   "provenance": []
  },
  "kernelspec": {
   "display_name": "Python [conda env:base] *",
   "language": "python",
   "name": "conda-base-py"
  },
  "language_info": {
   "codemirror_mode": {
    "name": "ipython",
    "version": 3
   },
   "file_extension": ".py",
   "mimetype": "text/x-python",
   "name": "python",
   "nbconvert_exporter": "python",
   "pygments_lexer": "ipython3",
   "version": "3.12.7"
  }
 },
 "nbformat": 4,
 "nbformat_minor": 4
}
