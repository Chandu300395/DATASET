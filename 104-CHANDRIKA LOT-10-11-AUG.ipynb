{
 "cells": [
  {
   "cell_type": "code",
   "execution_count": 3,
   "id": "99ab8d13-a025-4ede-850d-8ee3f37f2ba8",
   "metadata": {},
   "outputs": [
    {
     "name": "stdout",
     "output_type": "stream",
     "text": [
      "Mean: 6.4\n"
     ]
    }
   ],
   "source": [
    "import numpy as np\n",
    "data=[4,4,6,8,10]\n",
    "\n",
    "mean=np.mean(data)#Average\n",
    "print(\"Mean:\",mean)"
   ]
  },
  {
   "cell_type": "code",
   "execution_count": 14,
   "id": "e7a2ab85-92cb-4493-a23b-6789a0d9ee30",
   "metadata": {},
   "outputs": [
    {
     "name": "stdout",
     "output_type": "stream",
     "text": [
      "Median: 6.0\n"
     ]
    }
   ],
   "source": [
    "median=np.median(data)#median\n",
    "print(\"Median:\",median)"
   ]
  },
  {
   "cell_type": "code",
   "execution_count": 26,
   "id": "9409928a-37a2-43ac-aca8-9f09ca100ae3",
   "metadata": {},
   "outputs": [
    {
     "name": "stdout",
     "output_type": "stream",
     "text": [
      "Mode: ModeResult(mode=4, count=2)\n"
     ]
    }
   ],
   "source": [
    "from scipy import stats\n",
    "mode=stats.mode(data)#Repeat\n",
    "print(\"Mode:\",mode)"
   ]
  },
  {
   "cell_type": "code",
   "execution_count": 18,
   "id": "7b44d26d-d9ef-4c5b-a87a-1aa635f78042",
   "metadata": {},
   "outputs": [
    {
     "name": "stdout",
     "output_type": "stream",
     "text": [
      "Range: 6\n"
     ]
    }
   ],
   "source": [
    "range=np.max(data)-np.min(data)#range\n",
    "print(\"Range:\",range)"
   ]
  },
  {
   "cell_type": "code",
   "execution_count": 3,
   "id": "dd90b3fa-4768-4a07-b8ad-62c89e0331e4",
   "metadata": {},
   "outputs": [
    {
     "name": "stdout",
     "output_type": "stream",
     "text": [
      "   a  b    c\n",
      "0  1  2  NaN\n",
      "1  2 -4  8.0\n"
     ]
    },
    {
     "data": {
      "text/html": [
       "<div>\n",
       "<style scoped>\n",
       "    .dataframe tbody tr th:only-of-type {\n",
       "        vertical-align: middle;\n",
       "    }\n",
       "\n",
       "    .dataframe tbody tr th {\n",
       "        vertical-align: top;\n",
       "    }\n",
       "\n",
       "    .dataframe thead th {\n",
       "        text-align: right;\n",
       "    }\n",
       "</style>\n",
       "<table border=\"1\" class=\"dataframe\">\n",
       "  <thead>\n",
       "    <tr style=\"text-align: right;\">\n",
       "      <th></th>\n",
       "      <th>a</th>\n",
       "      <th>b</th>\n",
       "      <th>c</th>\n",
       "    </tr>\n",
       "  </thead>\n",
       "  <tbody>\n",
       "    <tr>\n",
       "      <th>a</th>\n",
       "      <td>1.0</td>\n",
       "      <td>-1.0</td>\n",
       "      <td>NaN</td>\n",
       "    </tr>\n",
       "    <tr>\n",
       "      <th>b</th>\n",
       "      <td>-1.0</td>\n",
       "      <td>1.0</td>\n",
       "      <td>NaN</td>\n",
       "    </tr>\n",
       "    <tr>\n",
       "      <th>c</th>\n",
       "      <td>NaN</td>\n",
       "      <td>NaN</td>\n",
       "      <td>NaN</td>\n",
       "    </tr>\n",
       "  </tbody>\n",
       "</table>\n",
       "</div>"
      ],
      "text/plain": [
       "     a    b   c\n",
       "a  1.0 -1.0 NaN\n",
       "b -1.0  1.0 NaN\n",
       "c  NaN  NaN NaN"
      ]
     },
     "execution_count": 3,
     "metadata": {},
     "output_type": "execute_result"
    }
   ],
   "source": [
    "import pandas as pd\n",
    "data=[{'a':1,'b':2},{'a':2,'b':-4,'c':8}]\n",
    "table1=pd.DataFrame(data)\n",
    "print(table1)\n",
    "table1.corr()"
   ]
  },
  {
   "cell_type": "code",
   "execution_count": 7,
   "id": "49941f9b-7f0b-4935-9e61-c97c1fdb344e",
   "metadata": {},
   "outputs": [
    {
     "data": {
      "text/plain": [
       "a    0.707107\n",
       "b    4.242641\n",
       "c         NaN\n",
       "dtype: float64"
      ]
     },
     "execution_count": 7,
     "metadata": {},
     "output_type": "execute_result"
    }
   ],
   "source": [
    "table1.std()"
   ]
  },
  {
   "cell_type": "code",
   "execution_count": 5,
   "id": "b0d11a1e-702d-48a0-9f73-0612cd04aca1",
   "metadata": {},
   "outputs": [
    {
     "data": {
      "text/plain": [
       "a     0.5\n",
       "b    18.0\n",
       "c     NaN\n",
       "dtype: float64"
      ]
     },
     "execution_count": 5,
     "metadata": {},
     "output_type": "execute_result"
    }
   ],
   "source": [
    "table1.var()"
   ]
  },
  {
   "cell_type": "code",
   "execution_count": 11,
   "id": "d9b66404-71a5-4821-b1af-eafb328b8d56",
   "metadata": {},
   "outputs": [
    {
     "data": {
      "text/html": [
       "<div>\n",
       "<style scoped>\n",
       "    .dataframe tbody tr th:only-of-type {\n",
       "        vertical-align: middle;\n",
       "    }\n",
       "\n",
       "    .dataframe tbody tr th {\n",
       "        vertical-align: top;\n",
       "    }\n",
       "\n",
       "    .dataframe thead th {\n",
       "        text-align: right;\n",
       "    }\n",
       "</style>\n",
       "<table border=\"1\" class=\"dataframe\">\n",
       "  <thead>\n",
       "    <tr style=\"text-align: right;\">\n",
       "      <th></th>\n",
       "      <th>a</th>\n",
       "      <th>b</th>\n",
       "      <th>c</th>\n",
       "    </tr>\n",
       "  </thead>\n",
       "  <tbody>\n",
       "    <tr>\n",
       "      <th>a</th>\n",
       "      <td>0.5</td>\n",
       "      <td>-3.0</td>\n",
       "      <td>NaN</td>\n",
       "    </tr>\n",
       "    <tr>\n",
       "      <th>b</th>\n",
       "      <td>-3.0</td>\n",
       "      <td>18.0</td>\n",
       "      <td>NaN</td>\n",
       "    </tr>\n",
       "    <tr>\n",
       "      <th>c</th>\n",
       "      <td>NaN</td>\n",
       "      <td>NaN</td>\n",
       "      <td>NaN</td>\n",
       "    </tr>\n",
       "  </tbody>\n",
       "</table>\n",
       "</div>"
      ],
      "text/plain": [
       "     a     b   c\n",
       "a  0.5  -3.0 NaN\n",
       "b -3.0  18.0 NaN\n",
       "c  NaN   NaN NaN"
      ]
     },
     "execution_count": 11,
     "metadata": {},
     "output_type": "execute_result"
    }
   ],
   "source": [
    "table1.cov()"
   ]
  },
  {
   "cell_type": "code",
   "execution_count": 45,
   "id": "1ffda4a4-f6e6-4978-9c4f-3936a0b077b0",
   "metadata": {},
   "outputs": [
    {
     "name": "stdout",
     "output_type": "stream",
     "text": [
      "DataFrame:\n",
      "   Name  Age      City\n",
      "0    A   20    Mumbai\n",
      "1    B   50  Hydrabad\n",
      "2    C   30     Delhi\n",
      "3    d   40    Kerala\n",
      "4    e   35     Delhi\n",
      "5    g   55    Mumbai\n",
      "Summary statistic:              Age\n",
      "count   6.000000\n",
      "mean   38.333333\n",
      "std    12.909944\n",
      "min    20.000000\n",
      "25%    31.250000\n",
      "50%    37.500000\n",
      "75%    47.500000\n",
      "max    55.000000\n"
     ]
    }
   ],
   "source": [
    "#create dataframe in pandas\n",
    "data={'Name':['A','B','C','d','e','g'],'Age':[20,50,30,40,35,55],'City':['Mumbai','Hydrabad','Delhi','Kerala','Delhi','Mumbai']}\n",
    "df=pd.DataFrame(data)\n",
    "print(\"DataFrame:\\n\",df)\n",
    "print(\"Summary statistic:\",df.describe())"
   ]
  },
  {
   "cell_type": "code",
   "execution_count": 47,
   "id": "29ef864f-b20c-4b91-8b2f-5a65b239d184",
   "metadata": {},
   "outputs": [
    {
     "name": "stdout",
     "output_type": "stream",
     "text": [
      "  Name  Age      City  salary\n",
      "0    A   20    Mumbai   50000\n",
      "1    B   50  Hydrabad   60000\n",
      "2    C   30     Delhi   40000\n",
      "3    d   40    Kerala   60000\n",
      "4    e   35     Delhi   55000\n",
      "5    g   55    Mumbai   45000\n"
     ]
    }
   ],
   "source": [
    "#adding new column\n",
    "df['salary']=[50000,60000,40000,60000,55000,45000]\n",
    "print(df)"
   ]
  },
  {
   "cell_type": "code",
   "execution_count": 49,
   "id": "3394e1fa-736c-4753-9f72-6360c98bcbb3",
   "metadata": {},
   "outputs": [
    {
     "name": "stdout",
     "output_type": "stream",
     "text": [
      "0    20\n",
      "1    50\n",
      "2    30\n",
      "3    40\n",
      "4    35\n",
      "5    55\n",
      "Name: Age, dtype: int64\n"
     ]
    }
   ],
   "source": [
    "#Accessing columns\n",
    "ages=df['Age']\n",
    "print(ages)"
   ]
  },
  {
   "cell_type": "code",
   "execution_count": 51,
   "id": "0e532b76-85bd-4b21-b4d1-5d2728b20130",
   "metadata": {},
   "outputs": [
    {
     "name": "stdout",
     "output_type": "stream",
     "text": [
      "  Name  Age      City  salary\n",
      "1    B   50  Hydrabad   60000\n",
      "3    d   40    Kerala   60000\n",
      "4    e   35     Delhi   55000\n",
      "5    g   55    Mumbai   45000\n"
     ]
    }
   ],
   "source": [
    "#Filtering data\n",
    "Age=df[df['Age']>30]\n",
    "print(Age)"
   ]
  },
  {
   "cell_type": "code",
   "execution_count": 53,
   "id": "f00c7346-46be-432b-837c-8b2512547338",
   "metadata": {},
   "outputs": [
    {
     "name": "stdout",
     "output_type": "stream",
     "text": [
      "City\n",
      "Delhi       32.5\n",
      "Hydrabad    50.0\n",
      "Kerala      40.0\n",
      "Mumbai      37.5\n",
      "Name: Age, dtype: float64\n"
     ]
    }
   ],
   "source": [
    "#Group by and Aggregation\n",
    "mean_age_by_city=df.groupby('City')['Age'].mean()\n",
    "print(mean_age_by_city)"
   ]
  },
  {
   "cell_type": "code",
   "execution_count": 7,
   "id": "90f4d57e-272a-433d-8eca-026f9bf6f6cc",
   "metadata": {},
   "outputs": [
    {
     "name": "stdout",
     "output_type": "stream",
     "text": [
      "[11 12 13 14]\n",
      "[2 4 6 8]\n",
      "10\n",
      "2.5\n",
      "1.118033988749895\n"
     ]
    }
   ],
   "source": [
    "#array operation\n",
    "arr=np.array([1,2,3,4])\n",
    "add=arr+10\n",
    "mult=arr*2\n",
    "sum=np.sum(arr)\n",
    "mean=np.mean(arr)\n",
    "std=np.std(arr)\n",
    "\n",
    "print(add)\n",
    "print(mult)\n",
    "print(sum)\n",
    "print(mean)\n",
    "print(std)"
   ]
  },
  {
   "cell_type": "code",
   "execution_count": null,
   "id": "4dd14c27-e1f9-438e-ba28-effdf96b99c6",
   "metadata": {},
   "outputs": [],
   "source": [
    "#Normsl Distribution(Employee salary)\n",
    "axis[0,0]"
   ]
  }
 ],
 "metadata": {
  "kernelspec": {
   "display_name": "Python [conda env:base] *",
   "language": "python",
   "name": "conda-base-py"
  },
  "language_info": {
   "codemirror_mode": {
    "name": "ipython",
    "version": 3
   },
   "file_extension": ".py",
   "mimetype": "text/x-python",
   "name": "python",
   "nbconvert_exporter": "python",
   "pygments_lexer": "ipython3",
   "version": "3.12.4"
  }
 },
 "nbformat": 4,
 "nbformat_minor": 5
}
