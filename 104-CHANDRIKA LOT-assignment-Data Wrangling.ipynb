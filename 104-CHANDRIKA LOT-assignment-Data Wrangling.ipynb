{
 "cells": [
  {
   "cell_type": "code",
   "execution_count": null,
   "id": "32005cca-0f4d-49c1-b1a5-d490d5b55b21",
   "metadata": {},
   "outputs": [],
   "source": [
    "#Data Wrangling"
   ]
  },
  {
   "cell_type": "code",
   "execution_count": 1,
   "id": "e56f89a1-b8ab-4921-945f-735a64f0ad6e",
   "metadata": {},
   "outputs": [],
   "source": [
    "import numpy as np\n",
    "import pandas as pd"
   ]
  },
  {
   "cell_type": "code",
   "execution_count": 2,
   "id": "6b7b1ff2-a5fb-4a9a-a343-9809f199665e",
   "metadata": {},
   "outputs": [
    {
     "name": "stdout",
     "output_type": "stream",
     "text": [
      "(5, 9)\n"
     ]
    },
    {
     "data": {
      "text/html": [
       "<div>\n",
       "<style scoped>\n",
       "    .dataframe tbody tr th:only-of-type {\n",
       "        vertical-align: middle;\n",
       "    }\n",
       "\n",
       "    .dataframe tbody tr th {\n",
       "        vertical-align: top;\n",
       "    }\n",
       "\n",
       "    .dataframe thead th {\n",
       "        text-align: right;\n",
       "    }\n",
       "</style>\n",
       "<table border=\"1\" class=\"dataframe\">\n",
       "  <thead>\n",
       "    <tr style=\"text-align: right;\">\n",
       "      <th></th>\n",
       "      <th>Employee_ID</th>\n",
       "      <th>Name</th>\n",
       "      <th>Age</th>\n",
       "      <th>Department</th>\n",
       "      <th>Salary ($)</th>\n",
       "      <th>Joining_Date</th>\n",
       "      <th>Performance_Score</th>\n",
       "      <th>Promotions</th>\n",
       "      <th>Remarks</th>\n",
       "    </tr>\n",
       "  </thead>\n",
       "  <tbody>\n",
       "    <tr>\n",
       "      <th>0</th>\n",
       "      <td>101</td>\n",
       "      <td>John Doe</td>\n",
       "      <td>35</td>\n",
       "      <td>Sales</td>\n",
       "      <td>75000</td>\n",
       "      <td>10/08/15</td>\n",
       "      <td>8</td>\n",
       "      <td>2</td>\n",
       "      <td>Excellent</td>\n",
       "    </tr>\n",
       "    <tr>\n",
       "      <th>1</th>\n",
       "      <td>102</td>\n",
       "      <td>Jane Smith</td>\n",
       "      <td>-</td>\n",
       "      <td>Marketing</td>\n",
       "      <td>65000</td>\n",
       "      <td>15/03/18</td>\n",
       "      <td>7</td>\n",
       "      <td>1</td>\n",
       "      <td>-</td>\n",
       "    </tr>\n",
       "    <tr>\n",
       "      <th>2</th>\n",
       "      <td>103</td>\n",
       "      <td>Michael Lee</td>\n",
       "      <td>29</td>\n",
       "      <td>Sales</td>\n",
       "      <td>60000</td>\n",
       "      <td>20/07/20</td>\n",
       "      <td>5</td>\n",
       "      <td>0</td>\n",
       "      <td>Average</td>\n",
       "    </tr>\n",
       "    <tr>\n",
       "      <th>3</th>\n",
       "      <td>104</td>\n",
       "      <td>Sarah Kim</td>\n",
       "      <td>45</td>\n",
       "      <td>-</td>\n",
       "      <td>90000</td>\n",
       "      <td>28/02/10</td>\n",
       "      <td>9</td>\n",
       "      <td>3</td>\n",
       "      <td>Excellent</td>\n",
       "    </tr>\n",
       "    <tr>\n",
       "      <th>4</th>\n",
       "      <td>105</td>\n",
       "      <td>-</td>\n",
       "      <td>50</td>\n",
       "      <td>Operations</td>\n",
       "      <td>-</td>\n",
       "      <td>22/05/08</td>\n",
       "      <td>7</td>\n",
       "      <td>1</td>\n",
       "      <td>Good</td>\n",
       "    </tr>\n",
       "  </tbody>\n",
       "</table>\n",
       "</div>"
      ],
      "text/plain": [
       "   Employee_ID         Name Age  Department Salary ($) Joining_Date  \\\n",
       "0          101     John Doe  35       Sales      75000     10/08/15   \n",
       "1          102   Jane Smith   -   Marketing      65000     15/03/18   \n",
       "2          103  Michael Lee  29       Sales      60000     20/07/20   \n",
       "3          104    Sarah Kim  45           -      90000     28/02/10   \n",
       "4          105            -  50  Operations          -     22/05/08   \n",
       "\n",
       "   Performance_Score  Promotions    Remarks  \n",
       "0                  8           2  Excellent  \n",
       "1                  7           1          -  \n",
       "2                  5           0    Average  \n",
       "3                  9           3  Excellent  \n",
       "4                  7           1       Good  "
      ]
     },
     "execution_count": 2,
     "metadata": {},
     "output_type": "execute_result"
    }
   ],
   "source": [
    "df=pd.read_csv(\"C:/Users/DELL/Desktop/DATA SCIENCE/assignment.csv\")\n",
    "print(df.shape)\n",
    "df.head()"
   ]
  },
  {
   "cell_type": "code",
   "execution_count": null,
   "id": "5ed7b459-4bab-4afb-96c7-e0714b3d5889",
   "metadata": {},
   "outputs": [],
   "source": [
    "#deal with missing data\n",
    "#1.drop data-drop the whole row or whole column\n",
    "#2.replace data-replace it by mean/frequency(mode) or based on other functions "
   ]
  },
  {
   "cell_type": "code",
   "execution_count": 5,
   "id": "8aca27dd-2f8a-4c12-b672-4d1943cbc867",
   "metadata": {},
   "outputs": [
    {
     "data": {
      "text/html": [
       "<div>\n",
       "<style scoped>\n",
       "    .dataframe tbody tr th:only-of-type {\n",
       "        vertical-align: middle;\n",
       "    }\n",
       "\n",
       "    .dataframe tbody tr th {\n",
       "        vertical-align: top;\n",
       "    }\n",
       "\n",
       "    .dataframe thead th {\n",
       "        text-align: right;\n",
       "    }\n",
       "</style>\n",
       "<table border=\"1\" class=\"dataframe\">\n",
       "  <thead>\n",
       "    <tr style=\"text-align: right;\">\n",
       "      <th></th>\n",
       "      <th>Employee_ID</th>\n",
       "      <th>Name</th>\n",
       "      <th>Age</th>\n",
       "      <th>Department</th>\n",
       "      <th>Salary ($)</th>\n",
       "      <th>Joining_Date</th>\n",
       "      <th>Performance_Score</th>\n",
       "      <th>Promotions</th>\n",
       "      <th>Remarks</th>\n",
       "    </tr>\n",
       "  </thead>\n",
       "  <tbody>\n",
       "    <tr>\n",
       "      <th>0</th>\n",
       "      <td>101</td>\n",
       "      <td>John Doe</td>\n",
       "      <td>35</td>\n",
       "      <td>Sales</td>\n",
       "      <td>75000</td>\n",
       "      <td>10/08/15</td>\n",
       "      <td>8</td>\n",
       "      <td>2</td>\n",
       "      <td>Excellent</td>\n",
       "    </tr>\n",
       "    <tr>\n",
       "      <th>1</th>\n",
       "      <td>102</td>\n",
       "      <td>Jane Smith</td>\n",
       "      <td>NaN</td>\n",
       "      <td>Marketing</td>\n",
       "      <td>65000</td>\n",
       "      <td>15/03/18</td>\n",
       "      <td>7</td>\n",
       "      <td>1</td>\n",
       "      <td>NaN</td>\n",
       "    </tr>\n",
       "    <tr>\n",
       "      <th>2</th>\n",
       "      <td>103</td>\n",
       "      <td>Michael Lee</td>\n",
       "      <td>29</td>\n",
       "      <td>Sales</td>\n",
       "      <td>60000</td>\n",
       "      <td>20/07/20</td>\n",
       "      <td>5</td>\n",
       "      <td>0</td>\n",
       "      <td>Average</td>\n",
       "    </tr>\n",
       "    <tr>\n",
       "      <th>3</th>\n",
       "      <td>104</td>\n",
       "      <td>Sarah Kim</td>\n",
       "      <td>45</td>\n",
       "      <td>NaN</td>\n",
       "      <td>90000</td>\n",
       "      <td>28/02/10</td>\n",
       "      <td>9</td>\n",
       "      <td>3</td>\n",
       "      <td>Excellent</td>\n",
       "    </tr>\n",
       "    <tr>\n",
       "      <th>4</th>\n",
       "      <td>105</td>\n",
       "      <td>NaN</td>\n",
       "      <td>50</td>\n",
       "      <td>Operations</td>\n",
       "      <td>NaN</td>\n",
       "      <td>22/05/08</td>\n",
       "      <td>7</td>\n",
       "      <td>1</td>\n",
       "      <td>Good</td>\n",
       "    </tr>\n",
       "  </tbody>\n",
       "</table>\n",
       "</div>"
      ],
      "text/plain": [
       "   Employee_ID         Name  Age  Department Salary ($) Joining_Date  \\\n",
       "0          101     John Doe   35       Sales      75000     10/08/15   \n",
       "1          102   Jane Smith  NaN   Marketing      65000     15/03/18   \n",
       "2          103  Michael Lee   29       Sales      60000     20/07/20   \n",
       "3          104    Sarah Kim   45         NaN      90000     28/02/10   \n",
       "4          105          NaN   50  Operations        NaN     22/05/08   \n",
       "\n",
       "   Performance_Score  Promotions    Remarks  \n",
       "0                  8           2  Excellent  \n",
       "1                  7           1        NaN  \n",
       "2                  5           0    Average  \n",
       "3                  9           3  Excellent  \n",
       "4                  7           1       Good  "
      ]
     },
     "execution_count": 5,
     "metadata": {},
     "output_type": "execute_result"
    }
   ],
   "source": [
    "df=df.replace(\"-\",np.NaN)\n",
    "df.head()"
   ]
  },
  {
   "cell_type": "code",
   "execution_count": 7,
   "id": "e9f417b5-8893-4fd3-8ebb-2ae1840d5e05",
   "metadata": {},
   "outputs": [
    {
     "name": "stdout",
     "output_type": "stream",
     "text": [
      "<class 'pandas.core.frame.DataFrame'>\n",
      "RangeIndex: 5 entries, 0 to 4\n",
      "Data columns (total 9 columns):\n",
      " #   Column             Non-Null Count  Dtype \n",
      "---  ------             --------------  ----- \n",
      " 0   Employee_ID        5 non-null      int64 \n",
      " 1   Name               4 non-null      object\n",
      " 2   Age                4 non-null      object\n",
      " 3   Department         4 non-null      object\n",
      " 4   Salary ($)         4 non-null      object\n",
      " 5   Joining_Date       5 non-null      object\n",
      " 6   Performance_Score  5 non-null      int64 \n",
      " 7   Promotions         5 non-null      int64 \n",
      " 8   Remarks            4 non-null      object\n",
      "dtypes: int64(3), object(6)\n",
      "memory usage: 492.0+ bytes\n"
     ]
    }
   ],
   "source": [
    "df.info()"
   ]
  },
  {
   "cell_type": "code",
   "execution_count": 9,
   "id": "86219992-b91b-46e6-80cb-84a28366e5ca",
   "metadata": {},
   "outputs": [
    {
     "data": {
      "text/plain": [
       "Employee_ID          0\n",
       "Name                 1\n",
       "Age                  1\n",
       "Department           1\n",
       "Salary ($)           1\n",
       "Joining_Date         0\n",
       "Performance_Score    0\n",
       "Promotions           0\n",
       "Remarks              1\n",
       "dtype: int64"
      ]
     },
     "execution_count": 9,
     "metadata": {},
     "output_type": "execute_result"
    }
   ],
   "source": [
    "df.isnull().sum()"
   ]
  },
  {
   "cell_type": "code",
   "execution_count": 11,
   "id": "b7abf3f3-ae20-4a61-9846-99d4f415b4d7",
   "metadata": {},
   "outputs": [
    {
     "name": "stdout",
     "output_type": "stream",
     "text": [
      "Average of Age: 39.75\n"
     ]
    },
    {
     "name": "stderr",
     "output_type": "stream",
     "text": [
      "C:\\Users\\DELL\\AppData\\Local\\Temp\\ipykernel_1908\\4006115811.py:4: FutureWarning: A value is trying to be set on a copy of a DataFrame or Series through chained assignment using an inplace method.\n",
      "The behavior will change in pandas 3.0. This inplace method will never work because the intermediate object on which we are setting values always behaves as a copy.\n",
      "\n",
      "For example, when doing 'df[col].method(value, inplace=True)', try using 'df.method({col: value}, inplace=True)' or df[col] = df[col].method(value) instead, to perform the operation inplace on the original object.\n",
      "\n",
      "\n",
      "  df['Age'].replace(np.nan,avg_age,inplace=True)\n"
     ]
    },
    {
     "data": {
      "text/plain": [
       "0       35\n",
       "1    39.75\n",
       "2       29\n",
       "3       45\n",
       "4       50\n",
       "Name: Age, dtype: object"
      ]
     },
     "execution_count": 11,
     "metadata": {},
     "output_type": "execute_result"
    }
   ],
   "source": [
    "#1.\tHandling Missing Values\n",
    "#For Age and Salary: Impute using the median or mean.\n",
    "avg_age=df['Age'].astype('float').mean(axis=0)\n",
    "df['Age'].replace(np.nan,avg_age,inplace=True)\n",
    "print(\"Average of Age:\",avg_age)\n",
    "df['Age']"
   ]
  },
  {
   "cell_type": "code",
   "execution_count": 13,
   "id": "7d4f4a52-8a73-4152-b34a-64e748e87ed1",
   "metadata": {},
   "outputs": [
    {
     "name": "stdout",
     "output_type": "stream",
     "text": [
      "Average of Age: 72500.0\n"
     ]
    },
    {
     "name": "stderr",
     "output_type": "stream",
     "text": [
      "C:\\Users\\DELL\\AppData\\Local\\Temp\\ipykernel_9064\\1909920069.py:2: FutureWarning: A value is trying to be set on a copy of a DataFrame or Series through chained assignment using an inplace method.\n",
      "The behavior will change in pandas 3.0. This inplace method will never work because the intermediate object on which we are setting values always behaves as a copy.\n",
      "\n",
      "For example, when doing 'df[col].method(value, inplace=True)', try using 'df.method({col: value}, inplace=True)' or df[col] = df[col].method(value) instead, to perform the operation inplace on the original object.\n",
      "\n",
      "\n",
      "  df['Salary ($)'].replace(np.nan,avg_age,inplace=True)\n"
     ]
    },
    {
     "data": {
      "text/plain": [
       "0    75000\n",
       "1    65000\n",
       "2    60000\n",
       "3    90000\n",
       "4    39.75\n",
       "Name: Salary ($), dtype: object"
      ]
     },
     "execution_count": 13,
     "metadata": {},
     "output_type": "execute_result"
    }
   ],
   "source": [
    "avg_salary=df['Salary ($)'].astype('float').mean(axis=0)\n",
    "df['Salary ($)'].replace(np.nan,avg_age,inplace=True)\n",
    "print(\"Average of Age:\",avg_salary)\n",
    "df['Salary ($)']"
   ]
  },
  {
   "cell_type": "code",
   "execution_count": 13,
   "id": "3c5f7f3c-4b5e-4dd5-8a34-0ec7e6f40d5e",
   "metadata": {},
   "outputs": [
    {
     "data": {
      "text/html": [
       "<div>\n",
       "<style scoped>\n",
       "    .dataframe tbody tr th:only-of-type {\n",
       "        vertical-align: middle;\n",
       "    }\n",
       "\n",
       "    .dataframe tbody tr th {\n",
       "        vertical-align: top;\n",
       "    }\n",
       "\n",
       "    .dataframe thead th {\n",
       "        text-align: right;\n",
       "    }\n",
       "</style>\n",
       "<table border=\"1\" class=\"dataframe\">\n",
       "  <thead>\n",
       "    <tr style=\"text-align: right;\">\n",
       "      <th></th>\n",
       "      <th>Employee_ID</th>\n",
       "      <th>Name</th>\n",
       "      <th>Age</th>\n",
       "      <th>Department</th>\n",
       "      <th>Salary ($)</th>\n",
       "      <th>Joining_Date</th>\n",
       "      <th>Performance_Score</th>\n",
       "      <th>Promotions</th>\n",
       "      <th>Remarks</th>\n",
       "    </tr>\n",
       "  </thead>\n",
       "  <tbody>\n",
       "    <tr>\n",
       "      <th>0</th>\n",
       "      <td>101</td>\n",
       "      <td>John Doe</td>\n",
       "      <td>35</td>\n",
       "      <td>Sales</td>\n",
       "      <td>75000</td>\n",
       "      <td>10/08/15</td>\n",
       "      <td>8</td>\n",
       "      <td>2</td>\n",
       "      <td>Excellent</td>\n",
       "    </tr>\n",
       "    <tr>\n",
       "      <th>1</th>\n",
       "      <td>102</td>\n",
       "      <td>Jane Smith</td>\n",
       "      <td>39.75</td>\n",
       "      <td>Marketing</td>\n",
       "      <td>65000</td>\n",
       "      <td>15/03/18</td>\n",
       "      <td>7</td>\n",
       "      <td>1</td>\n",
       "      <td>NaN</td>\n",
       "    </tr>\n",
       "    <tr>\n",
       "      <th>2</th>\n",
       "      <td>103</td>\n",
       "      <td>Michael Lee</td>\n",
       "      <td>29</td>\n",
       "      <td>Sales</td>\n",
       "      <td>60000</td>\n",
       "      <td>20/07/20</td>\n",
       "      <td>5</td>\n",
       "      <td>0</td>\n",
       "      <td>Average</td>\n",
       "    </tr>\n",
       "    <tr>\n",
       "      <th>3</th>\n",
       "      <td>104</td>\n",
       "      <td>Sarah Kim</td>\n",
       "      <td>45</td>\n",
       "      <td>NaN</td>\n",
       "      <td>90000</td>\n",
       "      <td>28/02/10</td>\n",
       "      <td>9</td>\n",
       "      <td>3</td>\n",
       "      <td>Excellent</td>\n",
       "    </tr>\n",
       "  </tbody>\n",
       "</table>\n",
       "</div>"
      ],
      "text/plain": [
       "   Employee_ID         Name    Age Department Salary ($) Joining_Date  \\\n",
       "0          101     John Doe     35      Sales      75000     10/08/15   \n",
       "1          102   Jane Smith  39.75  Marketing      65000     15/03/18   \n",
       "2          103  Michael Lee     29      Sales      60000     20/07/20   \n",
       "3          104    Sarah Kim     45        NaN      90000     28/02/10   \n",
       "\n",
       "   Performance_Score  Promotions    Remarks  \n",
       "0                  8           2  Excellent  \n",
       "1                  7           1        NaN  \n",
       "2                  5           0    Average  \n",
       "3                  9           3  Excellent  "
      ]
     },
     "execution_count": 13,
     "metadata": {},
     "output_type": "execute_result"
    }
   ],
   "source": [
    "#For Name: If missing, replace it with \"Unknown\" or drop the row.\n",
    "# simply drop whole row with NaN in \"price\" column\n",
    "df.dropna(subset=[\"Name\"], axis=0, inplace=True)\n",
    "# reset index, because we droped two rows\n",
    "df.reset_index(drop=True, inplace=True)\n",
    "df.head()"
   ]
  },
  {
   "cell_type": "code",
   "execution_count": null,
   "id": "89304f61-2ae3-4d31-b48c-b90bfd308021",
   "metadata": {},
   "outputs": [],
   "source": [
    "#2.\tCorrecting Data Inconsistencies\n",
    "#Issue: Age for employee ID 102 is missing, and department for Sarah Kim (ID 104) is missing.\n",
    "#Approach: Identify and correct inconsistencies by:\n",
    "#Ensuring Age is within a reasonable range (e.g., above 18).\n",
    "#For department, you can assign values based on similar records or knowledge about the role (e.g., guessing the department for Sarah Kim based on her role)."
   ]
  },
  {
   "cell_type": "code",
   "execution_count": 15,
   "id": "5747803f-2257-47cb-9172-4c59e98bad5b",
   "metadata": {},
   "outputs": [
    {
     "data": {
      "text/html": [
       "<div>\n",
       "<style scoped>\n",
       "    .dataframe tbody tr th:only-of-type {\n",
       "        vertical-align: middle;\n",
       "    }\n",
       "\n",
       "    .dataframe tbody tr th {\n",
       "        vertical-align: top;\n",
       "    }\n",
       "\n",
       "    .dataframe thead th {\n",
       "        text-align: right;\n",
       "    }\n",
       "</style>\n",
       "<table border=\"1\" class=\"dataframe\">\n",
       "  <thead>\n",
       "    <tr style=\"text-align: right;\">\n",
       "      <th></th>\n",
       "      <th>Employee_ID</th>\n",
       "      <th>Name</th>\n",
       "      <th>Age</th>\n",
       "      <th>Department</th>\n",
       "      <th>Salary ($)</th>\n",
       "      <th>Joining_Date</th>\n",
       "      <th>Performance_Score</th>\n",
       "      <th>Promotions</th>\n",
       "      <th>Remarks</th>\n",
       "    </tr>\n",
       "  </thead>\n",
       "  <tbody>\n",
       "    <tr>\n",
       "      <th>0</th>\n",
       "      <td>101</td>\n",
       "      <td>John Doe</td>\n",
       "      <td>35</td>\n",
       "      <td>Sales</td>\n",
       "      <td>75000</td>\n",
       "      <td>10/08/15</td>\n",
       "      <td>8</td>\n",
       "      <td>2</td>\n",
       "      <td>Excellent</td>\n",
       "    </tr>\n",
       "    <tr>\n",
       "      <th>1</th>\n",
       "      <td>102</td>\n",
       "      <td>Jane Smith</td>\n",
       "      <td>39</td>\n",
       "      <td>Marketing</td>\n",
       "      <td>65000</td>\n",
       "      <td>15/03/18</td>\n",
       "      <td>7</td>\n",
       "      <td>1</td>\n",
       "      <td>NaN</td>\n",
       "    </tr>\n",
       "    <tr>\n",
       "      <th>2</th>\n",
       "      <td>103</td>\n",
       "      <td>Michael Lee</td>\n",
       "      <td>29</td>\n",
       "      <td>Sales</td>\n",
       "      <td>60000</td>\n",
       "      <td>20/07/20</td>\n",
       "      <td>5</td>\n",
       "      <td>0</td>\n",
       "      <td>Average</td>\n",
       "    </tr>\n",
       "    <tr>\n",
       "      <th>3</th>\n",
       "      <td>104</td>\n",
       "      <td>Sarah Kim</td>\n",
       "      <td>45</td>\n",
       "      <td>NaN</td>\n",
       "      <td>90000</td>\n",
       "      <td>28/02/10</td>\n",
       "      <td>9</td>\n",
       "      <td>3</td>\n",
       "      <td>Excellent</td>\n",
       "    </tr>\n",
       "  </tbody>\n",
       "</table>\n",
       "</div>"
      ],
      "text/plain": [
       "   Employee_ID         Name  Age Department Salary ($) Joining_Date  \\\n",
       "0          101     John Doe   35      Sales      75000     10/08/15   \n",
       "1          102   Jane Smith   39  Marketing      65000     15/03/18   \n",
       "2          103  Michael Lee   29      Sales      60000     20/07/20   \n",
       "3          104    Sarah Kim   45        NaN      90000     28/02/10   \n",
       "\n",
       "   Performance_Score  Promotions    Remarks  \n",
       "0                  8           2  Excellent  \n",
       "1                  7           1        NaN  \n",
       "2                  5           0    Average  \n",
       "3                  9           3  Excellent  "
      ]
     },
     "execution_count": 15,
     "metadata": {},
     "output_type": "execute_result"
    }
   ],
   "source": [
    "df[[\"Age\"]] = df[[\"Age\"]].astype(\"int\")\n",
    "df.head()"
   ]
  },
  {
   "cell_type": "code",
   "execution_count": 17,
   "id": "79cd38f1-4f2f-4164-8b2d-1ce578001c4f",
   "metadata": {},
   "outputs": [
    {
     "data": {
      "text/plain": [
       "0        Sales\n",
       "1    Marketing\n",
       "2        Sales\n",
       "3          NaN\n",
       "Name: Department, dtype: object"
      ]
     },
     "execution_count": 17,
     "metadata": {},
     "output_type": "execute_result"
    }
   ],
   "source": [
    "df['Department']"
   ]
  },
  {
   "cell_type": "code",
   "execution_count": 19,
   "id": "e6559988-a0a8-4582-a97e-e1efc5b12144",
   "metadata": {},
   "outputs": [
    {
     "data": {
      "text/plain": [
       "Department\n",
       "Sales        2\n",
       "Marketing    1\n",
       "Name: count, dtype: int64"
      ]
     },
     "execution_count": 19,
     "metadata": {},
     "output_type": "execute_result"
    }
   ],
   "source": [
    "df['Department'].value_counts()"
   ]
  },
  {
   "cell_type": "code",
   "execution_count": 21,
   "id": "73507362-c458-4a50-b883-01b91cb98889",
   "metadata": {},
   "outputs": [
    {
     "data": {
      "text/html": [
       "<div>\n",
       "<style scoped>\n",
       "    .dataframe tbody tr th:only-of-type {\n",
       "        vertical-align: middle;\n",
       "    }\n",
       "\n",
       "    .dataframe tbody tr th {\n",
       "        vertical-align: top;\n",
       "    }\n",
       "\n",
       "    .dataframe thead th {\n",
       "        text-align: right;\n",
       "    }\n",
       "</style>\n",
       "<table border=\"1\" class=\"dataframe\">\n",
       "  <thead>\n",
       "    <tr style=\"text-align: right;\">\n",
       "      <th></th>\n",
       "      <th>Employee_ID</th>\n",
       "      <th>Name</th>\n",
       "      <th>Age</th>\n",
       "      <th>Department</th>\n",
       "      <th>Salary ($)</th>\n",
       "      <th>Joining_Date</th>\n",
       "      <th>Performance_Score</th>\n",
       "      <th>Promotions</th>\n",
       "      <th>Remarks</th>\n",
       "    </tr>\n",
       "  </thead>\n",
       "  <tbody>\n",
       "    <tr>\n",
       "      <th>0</th>\n",
       "      <td>101</td>\n",
       "      <td>John Doe</td>\n",
       "      <td>35</td>\n",
       "      <td>Sales</td>\n",
       "      <td>75000</td>\n",
       "      <td>10/08/15</td>\n",
       "      <td>8</td>\n",
       "      <td>2</td>\n",
       "      <td>Excellent</td>\n",
       "    </tr>\n",
       "    <tr>\n",
       "      <th>1</th>\n",
       "      <td>102</td>\n",
       "      <td>Jane Smith</td>\n",
       "      <td>39</td>\n",
       "      <td>Marketing</td>\n",
       "      <td>65000</td>\n",
       "      <td>15/03/18</td>\n",
       "      <td>7</td>\n",
       "      <td>1</td>\n",
       "      <td>NaN</td>\n",
       "    </tr>\n",
       "    <tr>\n",
       "      <th>2</th>\n",
       "      <td>103</td>\n",
       "      <td>Michael Lee</td>\n",
       "      <td>29</td>\n",
       "      <td>Sales</td>\n",
       "      <td>60000</td>\n",
       "      <td>20/07/20</td>\n",
       "      <td>5</td>\n",
       "      <td>0</td>\n",
       "      <td>Average</td>\n",
       "    </tr>\n",
       "    <tr>\n",
       "      <th>3</th>\n",
       "      <td>104</td>\n",
       "      <td>Sarah Kim</td>\n",
       "      <td>45</td>\n",
       "      <td>Sales</td>\n",
       "      <td>90000</td>\n",
       "      <td>28/02/10</td>\n",
       "      <td>9</td>\n",
       "      <td>3</td>\n",
       "      <td>Excellent</td>\n",
       "    </tr>\n",
       "  </tbody>\n",
       "</table>\n",
       "</div>"
      ],
      "text/plain": [
       "   Employee_ID         Name  Age Department Salary ($) Joining_Date  \\\n",
       "0          101     John Doe   35      Sales      75000     10/08/15   \n",
       "1          102   Jane Smith   39  Marketing      65000     15/03/18   \n",
       "2          103  Michael Lee   29      Sales      60000     20/07/20   \n",
       "3          104    Sarah Kim   45      Sales      90000     28/02/10   \n",
       "\n",
       "   Performance_Score  Promotions    Remarks  \n",
       "0                  8           2  Excellent  \n",
       "1                  7           1        NaN  \n",
       "2                  5           0    Average  \n",
       "3                  9           3  Excellent  "
      ]
     },
     "execution_count": 21,
     "metadata": {},
     "output_type": "execute_result"
    }
   ],
   "source": [
    "df['Department'].replace(np.NaN,\"Sales\",inplace=True)\n",
    "df.head()"
   ]
  },
  {
   "cell_type": "code",
   "execution_count": 43,
   "id": "69730f96-91a9-49b0-ab8d-9495a30182e5",
   "metadata": {},
   "outputs": [
    {
     "data": {
      "text/plain": [
       "Remarks\n",
       "Excellent    2\n",
       "Average      1\n",
       "Name: count, dtype: int64"
      ]
     },
     "execution_count": 43,
     "metadata": {},
     "output_type": "execute_result"
    }
   ],
   "source": [
    "df['Remarks']\n",
    "df['Remarks'].value_counts()"
   ]
  },
  {
   "cell_type": "code",
   "execution_count": 37,
   "id": "a8e25a86-52ca-4a68-9a44-c3cc6469aebb",
   "metadata": {},
   "outputs": [
    {
     "name": "stderr",
     "output_type": "stream",
     "text": [
      "C:\\Users\\DELL\\AppData\\Local\\Temp\\ipykernel_1908\\966419820.py:1: FutureWarning: A value is trying to be set on a copy of a DataFrame or Series through chained assignment using an inplace method.\n",
      "The behavior will change in pandas 3.0. This inplace method will never work because the intermediate object on which we are setting values always behaves as a copy.\n",
      "\n",
      "For example, when doing 'df[col].method(value, inplace=True)', try using 'df.method({col: value}, inplace=True)' or df[col] = df[col].method(value) instead, to perform the operation inplace on the original object.\n",
      "\n",
      "\n",
      "  df['Remarks'].replace(np.NaN,\"Excellent\",inplace=True)\n"
     ]
    },
    {
     "data": {
      "text/html": [
       "<div>\n",
       "<style scoped>\n",
       "    .dataframe tbody tr th:only-of-type {\n",
       "        vertical-align: middle;\n",
       "    }\n",
       "\n",
       "    .dataframe tbody tr th {\n",
       "        vertical-align: top;\n",
       "    }\n",
       "\n",
       "    .dataframe thead th {\n",
       "        text-align: right;\n",
       "    }\n",
       "</style>\n",
       "<table border=\"1\" class=\"dataframe\">\n",
       "  <thead>\n",
       "    <tr style=\"text-align: right;\">\n",
       "      <th></th>\n",
       "      <th>Employee_ID</th>\n",
       "      <th>Name</th>\n",
       "      <th>Age</th>\n",
       "      <th>Department</th>\n",
       "      <th>Salary ($)</th>\n",
       "      <th>Joining_Date</th>\n",
       "      <th>Performance_Score</th>\n",
       "      <th>Promotions</th>\n",
       "      <th>Remarks</th>\n",
       "    </tr>\n",
       "  </thead>\n",
       "  <tbody>\n",
       "    <tr>\n",
       "      <th>0</th>\n",
       "      <td>101</td>\n",
       "      <td>John Doe</td>\n",
       "      <td>35</td>\n",
       "      <td>Sales</td>\n",
       "      <td>75000</td>\n",
       "      <td>10/08/15</td>\n",
       "      <td>8.0</td>\n",
       "      <td>2.0</td>\n",
       "      <td>Excellent</td>\n",
       "    </tr>\n",
       "    <tr>\n",
       "      <th>1</th>\n",
       "      <td>102</td>\n",
       "      <td>Jane Smith</td>\n",
       "      <td>39</td>\n",
       "      <td>Marketing</td>\n",
       "      <td>65000</td>\n",
       "      <td>15/03/18</td>\n",
       "      <td>7.0</td>\n",
       "      <td>1.0</td>\n",
       "      <td>Excellent</td>\n",
       "    </tr>\n",
       "    <tr>\n",
       "      <th>2</th>\n",
       "      <td>103</td>\n",
       "      <td>Michael Lee</td>\n",
       "      <td>29</td>\n",
       "      <td>Sales</td>\n",
       "      <td>60000</td>\n",
       "      <td>20/07/20</td>\n",
       "      <td>5.0</td>\n",
       "      <td>0.0</td>\n",
       "      <td>Average</td>\n",
       "    </tr>\n",
       "    <tr>\n",
       "      <th>3</th>\n",
       "      <td>104</td>\n",
       "      <td>Sarah Kim</td>\n",
       "      <td>45</td>\n",
       "      <td>Sales</td>\n",
       "      <td>90000</td>\n",
       "      <td>28/02/10</td>\n",
       "      <td>9.0</td>\n",
       "      <td>3.0</td>\n",
       "      <td>Excellent</td>\n",
       "    </tr>\n",
       "  </tbody>\n",
       "</table>\n",
       "</div>"
      ],
      "text/plain": [
       "   Employee_ID         Name  Age Department Salary ($) Joining_Date  \\\n",
       "0          101     John Doe   35      Sales      75000     10/08/15   \n",
       "1          102   Jane Smith   39  Marketing      65000     15/03/18   \n",
       "2          103  Michael Lee   29      Sales      60000     20/07/20   \n",
       "3          104    Sarah Kim   45      Sales      90000     28/02/10   \n",
       "\n",
       "   Performance_Score  Promotions    Remarks  \n",
       "0                8.0         2.0  Excellent  \n",
       "1                7.0         1.0  Excellent  \n",
       "2                5.0         0.0    Average  \n",
       "3                9.0         3.0  Excellent  "
      ]
     },
     "execution_count": 37,
     "metadata": {},
     "output_type": "execute_result"
    }
   ],
   "source": [
    "df['Remarks'].replace(np.NaN,\"Excellent\",inplace=True)\n",
    "df[[\"Performance_Score\",\"Promotions\"]]=df[[\"Performance_Score\",\"Promotions\"]].astype(\"float\")\n",
    "df[[\"Age\"]]=df[[\"Age\"]].astype(\"int\")\n",
    "df.head()"
   ]
  },
  {
   "cell_type": "code",
   "execution_count": 45,
   "id": "594ab777-e39f-4f93-9ee6-bdb0bcba46fe",
   "metadata": {},
   "outputs": [
    {
     "data": {
      "text/plain": [
       "Text(0.5, 1.0, 'Performance_Score bins')"
      ]
     },
     "execution_count": 45,
     "metadata": {},
     "output_type": "execute_result"
    },
    {
     "data": {
      "image/png": "[encoded data removed]",
      "text/plain": [
       "<Figure size 640x480 with 1 Axes>"
      ]
     },
     "metadata": {},
     "output_type": "display_data"
    }
   ],
   "source": [
    "df[\"Performance_Score\"]=df[\"Performance_Score\"].astype(int,copy=True)\n",
    "import matplotlib as plt\n",
    "from matplotlib import pyplot\n",
    "plt.pyplot.hist(df[\"Performance_Score\"])\n",
    "# set x/y labels and plot title\n",
    "plt.pyplot.xlabel(\"Performance_Score\")\n",
    "plt.pyplot.ylabel(\"count\")\n",
    "plt.pyplot.title(\"Performance_Score bins\")"
   ]
  },
  {
   "cell_type": "code",
   "execution_count": 47,
   "id": "2d636685-1d3b-4a54-b6af-d40e445bbd0b",
   "metadata": {},
   "outputs": [
    {
     "data": {
      "text/plain": [
       "array([5.        , 6.33333333, 7.66666667, 9.        ])"
      ]
     },
     "execution_count": 47,
     "metadata": {},
     "output_type": "execute_result"
    }
   ],
   "source": [
    "bins=np.linspace(min(df[\"Performance_Score\"]),max(df[\"Performance_Score\"]),4)\n",
    "bins"
   ]
  },
  {
   "cell_type": "code",
   "execution_count": 49,
   "id": "8cb2b8d7-e9b9-451f-b2ae-40d0f38f505b",
   "metadata": {},
   "outputs": [
    {
     "data": {
      "text/html": [
       "<div>\n",
       "<style scoped>\n",
       "    .dataframe tbody tr th:only-of-type {\n",
       "        vertical-align: middle;\n",
       "    }\n",
       "\n",
       "    .dataframe tbody tr th {\n",
       "        vertical-align: top;\n",
       "    }\n",
       "\n",
       "    .dataframe thead th {\n",
       "        text-align: right;\n",
       "    }\n",
       "</style>\n",
       "<table border=\"1\" class=\"dataframe\">\n",
       "  <thead>\n",
       "    <tr style=\"text-align: right;\">\n",
       "      <th></th>\n",
       "      <th>Performance_Score</th>\n",
       "      <th>Performance_Score-binned</th>\n",
       "    </tr>\n",
       "  </thead>\n",
       "  <tbody>\n",
       "    <tr>\n",
       "      <th>0</th>\n",
       "      <td>8</td>\n",
       "      <td>High</td>\n",
       "    </tr>\n",
       "    <tr>\n",
       "      <th>1</th>\n",
       "      <td>7</td>\n",
       "      <td>Medium</td>\n",
       "    </tr>\n",
       "    <tr>\n",
       "      <th>2</th>\n",
       "      <td>5</td>\n",
       "      <td>Low</td>\n",
       "    </tr>\n",
       "    <tr>\n",
       "      <th>3</th>\n",
       "      <td>9</td>\n",
       "      <td>High</td>\n",
       "    </tr>\n",
       "  </tbody>\n",
       "</table>\n",
       "</div>"
      ],
      "text/plain": [
       "   Performance_Score Performance_Score-binned\n",
       "0                  8                     High\n",
       "1                  7                   Medium\n",
       "2                  5                      Low\n",
       "3                  9                     High"
      ]
     },
     "execution_count": 49,
     "metadata": {},
     "output_type": "execute_result"
    }
   ],
   "source": [
    "group_names=[\"Low\",\"Medium\",\"High\"]\n",
    "df['Performance_Score-binned']=pd.cut(df['Performance_Score'],bins,labels=group_names,include_lowest=True)\n",
    "df[['Performance_Score','Performance_Score-binned']].head(20)"
   ]
  },
  {
   "cell_type": "code",
   "execution_count": 53,
   "id": "9eab8f53-da08-4a80-acab-cf96b46cd43b",
   "metadata": {},
   "outputs": [
    {
     "data": {
      "text/plain": [
       "Performance_Score-binned\n",
       "High      2\n",
       "Low       1\n",
       "Medium    1\n",
       "Name: count, dtype: int64"
      ]
     },
     "execution_count": 53,
     "metadata": {},
     "output_type": "execute_result"
    }
   ],
   "source": [
    "df[\"Performance_Score-binned\"].value_counts()"
   ]
  },
  {
   "cell_type": "code",
   "execution_count": 55,
   "id": "90a0566a-7f9c-4682-bf9a-aa395ccf56f5",
   "metadata": {},
   "outputs": [
    {
     "data": {
      "text/plain": [
       "Index(['Employee_ID', 'Name', 'Age', 'Department', 'Salary ($)',\n",
       "       'Joining_Date', 'Performance_Score', 'Promotions', 'Remarks',\n",
       "       'Performance_Score-binned'],\n",
       "      dtype='object')"
      ]
     },
     "execution_count": 55,
     "metadata": {},
     "output_type": "execute_result"
    }
   ],
   "source": [
    "df.columns"
   ]
  },
  {
   "cell_type": "code",
   "execution_count": 57,
   "id": "0777e25a-550c-4e39-943f-3c7a2e58d449",
   "metadata": {},
   "outputs": [
    {
     "data": {
      "text/html": [
       "<div>\n",
       "<style scoped>\n",
       "    .dataframe tbody tr th:only-of-type {\n",
       "        vertical-align: middle;\n",
       "    }\n",
       "\n",
       "    .dataframe tbody tr th {\n",
       "        vertical-align: top;\n",
       "    }\n",
       "\n",
       "    .dataframe thead th {\n",
       "        text-align: right;\n",
       "    }\n",
       "</style>\n",
       "<table border=\"1\" class=\"dataframe\">\n",
       "  <thead>\n",
       "    <tr style=\"text-align: right;\">\n",
       "      <th></th>\n",
       "      <th>Employee_ID</th>\n",
       "      <th>Name</th>\n",
       "      <th>Age</th>\n",
       "      <th>Department</th>\n",
       "      <th>Salary ($)</th>\n",
       "      <th>Joining_Date</th>\n",
       "      <th>Performance_Score</th>\n",
       "      <th>Promotions</th>\n",
       "      <th>Remarks</th>\n",
       "      <th>Performance_Score-binned</th>\n",
       "    </tr>\n",
       "  </thead>\n",
       "  <tbody>\n",
       "    <tr>\n",
       "      <th>0</th>\n",
       "      <td>101</td>\n",
       "      <td>John Doe</td>\n",
       "      <td>35</td>\n",
       "      <td>Sales</td>\n",
       "      <td>75000</td>\n",
       "      <td>10/08/15</td>\n",
       "      <td>8</td>\n",
       "      <td>2.0</td>\n",
       "      <td>Excellent</td>\n",
       "      <td>High</td>\n",
       "    </tr>\n",
       "    <tr>\n",
       "      <th>1</th>\n",
       "      <td>102</td>\n",
       "      <td>Jane Smith</td>\n",
       "      <td>39</td>\n",
       "      <td>Marketing</td>\n",
       "      <td>65000</td>\n",
       "      <td>15/03/18</td>\n",
       "      <td>7</td>\n",
       "      <td>1.0</td>\n",
       "      <td>Excellent</td>\n",
       "      <td>Medium</td>\n",
       "    </tr>\n",
       "    <tr>\n",
       "      <th>2</th>\n",
       "      <td>103</td>\n",
       "      <td>Michael Lee</td>\n",
       "      <td>29</td>\n",
       "      <td>Sales</td>\n",
       "      <td>60000</td>\n",
       "      <td>20/07/20</td>\n",
       "      <td>5</td>\n",
       "      <td>0.0</td>\n",
       "      <td>Average</td>\n",
       "      <td>Low</td>\n",
       "    </tr>\n",
       "    <tr>\n",
       "      <th>3</th>\n",
       "      <td>104</td>\n",
       "      <td>Sarah Kim</td>\n",
       "      <td>45</td>\n",
       "      <td>Sales</td>\n",
       "      <td>90000</td>\n",
       "      <td>28/02/10</td>\n",
       "      <td>9</td>\n",
       "      <td>3.0</td>\n",
       "      <td>Excellent</td>\n",
       "      <td>High</td>\n",
       "    </tr>\n",
       "  </tbody>\n",
       "</table>\n",
       "</div>"
      ],
      "text/plain": [
       "   Employee_ID         Name  Age Department Salary ($) Joining_Date  \\\n",
       "0          101     John Doe   35      Sales      75000     10/08/15   \n",
       "1          102   Jane Smith   39  Marketing      65000     15/03/18   \n",
       "2          103  Michael Lee   29      Sales      60000     20/07/20   \n",
       "3          104    Sarah Kim   45      Sales      90000     28/02/10   \n",
       "\n",
       "   Performance_Score  Promotions    Remarks Performance_Score-binned  \n",
       "0                  8         2.0  Excellent                     High  \n",
       "1                  7         1.0  Excellent                   Medium  \n",
       "2                  5         0.0    Average                      Low  \n",
       "3                  9         3.0  Excellent                     High  "
      ]
     },
     "execution_count": 57,
     "metadata": {},
     "output_type": "execute_result"
    }
   ],
   "source": [
    "df.head()"
   ]
  },
  {
   "cell_type": "code",
   "execution_count": 59,
   "id": "2af06033-db45-42c9-8dba-b01b60a83fc9",
   "metadata": {},
   "outputs": [],
   "source": [
    "df.to_csv(\"Emp_detail.csv\",index=False)"
   ]
  }
 ],
 "metadata": {
  "kernelspec": {
   "display_name": "Python [conda env:base] *",
   "language": "python",
   "name": "conda-base-py"
  },
  "language_info": {
   "codemirror_mode": {
    "name": "ipython",
    "version": 3
   },
   "file_extension": ".py",
   "mimetype": "text/x-python",
   "name": "python",
   "nbconvert_exporter": "python",
   "pygments_lexer": "ipython3",
   "version": "3.12.7"
  }
 },
 "nbformat": 4,
 "nbformat_minor": 5
}
