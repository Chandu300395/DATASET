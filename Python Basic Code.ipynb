{
  "cells": [
    {
      "cell_type": "markdown",
      "metadata": {
        "id": "view-in-github",
        "colab_type": "text"
      },
      "source": [
        "<a href=\"https://colab.research.google.com/github/Chandu300395/DATASET/blob/main/Python%20Basic%20Code.ipynb\" target=\"_parent\"><img src=\"https://colab.research.google.com/assets/colab-badge.svg\" alt=\"Open In Colab\"/></a>"
      ]
    },
    {
      "cell_type": "code",
      "source": [
        "print(\"Hello, World!\")"
      ],
      "metadata": {
        "id": "S_9uzyjgst3L",
        "outputId": "c4d7339f-1bda-4ec5-c3e7-c03c9160f927",
        "colab": {
          "base_uri": "https://localhost:8080/"
        }
      },
      "execution_count": 1,
      "outputs": [
        {
          "output_type": "stream",
          "name": "stdout",
          "text": [
            "Hello, World!\n"
          ]
        }
      ]
    },
    {
      "cell_type": "code",
      "source": [
        "if 8 > 4:\n",
        "print(\"Eight is greater than Four!\")"
      ],
      "metadata": {
        "id": "RvNJGxG1s9Ej",
        "outputId": "bd172296-9ad3-4917-cb14-d521c7b91eab",
        "colab": {
          "base_uri": "https://localhost:8080/",
          "height": 106
        }
      },
      "execution_count": 2,
      "outputs": [
        {
          "output_type": "error",
          "ename": "IndentationError",
          "evalue": "expected an indented block after 'if' statement on line 1 (<ipython-input-2-80bc0c335281>, line 2)",
          "traceback": [
            "\u001b[0;36m  File \u001b[0;32m\"<ipython-input-2-80bc0c335281>\"\u001b[0;36m, line \u001b[0;32m2\u001b[0m\n\u001b[0;31m    print(\"Eight is greater than Four!\")\u001b[0m\n\u001b[0m    ^\u001b[0m\n\u001b[0;31mIndentationError\u001b[0m\u001b[0;31m:\u001b[0m expected an indented block after 'if' statement on line 1\n"
          ]
        }
      ]
    },
    {
      "cell_type": "code",
      "source": [
        "x = 10\n",
        "y = \"Hell0, World!\"\n",
        "x\n",
        "y"
      ],
      "metadata": {
        "id": "TVcXCDuYtCfs",
        "outputId": "9c99bddd-4727-42de-a80c-d046c258cccb",
        "colab": {
          "base_uri": "https://localhost:8080/",
          "height": 35
        }
      },
      "execution_count": 3,
      "outputs": [
        {
          "output_type": "execute_result",
          "data": {
            "text/plain": [
              "'Hell0, World!'"
            ],
            "application/vnd.google.colaboratory.intrinsic+json": {
              "type": "string"
            }
          },
          "metadata": {},
          "execution_count": 3
        }
      ]
    },
    {
      "cell_type": "markdown",
      "source": [
        "Comments"
      ],
      "metadata": {
        "id": "YSaYxugxtlJ4"
      }
    },
    {
      "cell_type": "code",
      "source": [
        "# Comments can be used to prevent execution when testing code.\n",
        "# print(\"Hello, World!\")\n",
        "print (\"Cheers everyone\")"
      ],
      "metadata": {
        "id": "rCOt_bfmtKnM",
        "outputId": "1411fb24-97a4-4fbf-b852-fec5f1637b18",
        "colab": {
          "base_uri": "https://localhost:8080/"
        }
      },
      "execution_count": 4,
      "outputs": [
        {
          "output_type": "stream",
          "name": "stdout",
          "text": [
            "Cheers everyone\n"
          ]
        }
      ]
    },
    {
      "cell_type": "code",
      "source": [
        "\"\"\"\n",
        "This is a comment\n",
        "written in\n",
        "more than just one line(Multiline comment)\n",
        "\"\"\"\n",
        "print(\"Hello, World!\")"
      ],
      "metadata": {
        "id": "pST85EOvtMdq",
        "outputId": "0aa1eacc-9415-49de-85cb-7fbda2d01126",
        "colab": {
          "base_uri": "https://localhost:8080/"
        }
      },
      "execution_count": 5,
      "outputs": [
        {
          "output_type": "stream",
          "name": "stdout",
          "text": [
            "Hello, World!\n"
          ]
        }
      ]
    },
    {
      "cell_type": "markdown",
      "source": [
        "Creating Variables"
      ],
      "metadata": {
        "id": "c0U6s4fetVDD"
      }
    },
    {
      "cell_type": "code",
      "source": [
        "x = 9\n",
        "y = \"Kumar\"\n",
        "print(x)\n",
        "print(y)"
      ],
      "metadata": {
        "id": "3urAZYe-tV9-",
        "outputId": "fcd12946-873e-4868-c1e9-2462ae3861fa",
        "colab": {
          "base_uri": "https://localhost:8080/"
        }
      },
      "execution_count": 6,
      "outputs": [
        {
          "output_type": "stream",
          "name": "stdout",
          "text": [
            "9\n",
            "Kumar\n"
          ]
        }
      ]
    },
    {
      "cell_type": "code",
      "source": [
        "# Python allows you to assign values to multiple variables in one line:\n",
        "a, b, c = \"Orange\", \"Banana\", \"Cherry\"\n",
        "print(a)\n",
        "print(b)\n",
        "print(c)"
      ],
      "metadata": {
        "id": "OffyDZ1Zt0gn",
        "outputId": "f4133c2c-2701-410f-881b-e1ab2443bdc6",
        "colab": {
          "base_uri": "https://localhost:8080/"
        }
      },
      "execution_count": 7,
      "outputs": [
        {
          "output_type": "stream",
          "name": "stdout",
          "text": [
            "Orange\n",
            "Banana\n",
            "Cherry\n"
          ]
        }
      ]
    },
    {
      "cell_type": "markdown",
      "source": [
        "Output Variables"
      ],
      "metadata": {
        "id": "evYbuhqft8CK"
      }
    },
    {
      "cell_type": "code",
      "source": [
        "# Create two variables\n",
        "\n",
        "x = \"Python is \"\n",
        "y = \"awesome\"\n",
        "# use + character to combine variables\n",
        "z = x + y\n",
        "print(z)"
      ],
      "metadata": {
        "id": "_3Gu7_x9t8tF",
        "outputId": "202cda47-1193-4a73-d0e3-0d8654ffda6a",
        "colab": {
          "base_uri": "https://localhost:8080/"
        }
      },
      "execution_count": 10,
      "outputs": [
        {
          "output_type": "stream",
          "name": "stdout",
          "text": [
            "Python is awesome\n"
          ]
        }
      ]
    },
    {
      "cell_type": "code",
      "source": [
        "# For numbers, the + character works as a mathematical operator:\n",
        "\n",
        "x = 5\n",
        "\n",
        "y = 10\n",
        "\n",
        "print(x + y)"
      ],
      "metadata": {
        "id": "l1Nnj9dLuJR6",
        "outputId": "fdd535a5-a3fa-4965-8258-17647188ee5c",
        "colab": {
          "base_uri": "https://localhost:8080/"
        }
      },
      "execution_count": 11,
      "outputs": [
        {
          "output_type": "stream",
          "name": "stdout",
          "text": [
            "15\n"
          ]
        }
      ]
    },
    {
      "cell_type": "markdown",
      "source": [
        "Python Numbers\n",
        "There are three numeric types in Python:\n",
        "int\n",
        "float\n",
        "complex"
      ],
      "metadata": {
        "id": "7oIICZWvuPSz"
      }
    },
    {
      "cell_type": "code",
      "source": [
        "# Example\n",
        "x = 1 # int\n",
        "y = 2.8 # float\n",
        "z = 1j # complex\n",
        "print(type(x))\n",
        "print(type(y))\n",
        "print(type(z))"
      ],
      "metadata": {
        "id": "LxmVa9xTuRXN",
        "outputId": "c0dca688-d0f1-41da-ccbd-71e2f1a163f8",
        "colab": {
          "base_uri": "https://localhost:8080/"
        }
      },
      "execution_count": 12,
      "outputs": [
        {
          "output_type": "stream",
          "name": "stdout",
          "text": [
            "<class 'int'>\n",
            "<class 'float'>\n",
            "<class 'complex'>\n"
          ]
        }
      ]
    },
    {
      "cell_type": "code",
      "source": [
        "#convert from int to float:\n",
        "a = float(x)\n",
        "#convert from float to int:\n",
        "b = int(y)\n",
        "#convert from int to complex:\n",
        "c = complex(x)\n",
        "print(a)\n",
        "print(b)\n",
        "print(c)\n",
        "print(\" ------ \")\n",
        "print(type(a))\n",
        "print(type(b))\n",
        "print(type(c))"
      ],
      "metadata": {
        "id": "9qeig1VtvU1r",
        "outputId": "d795ef88-3497-458d-fcdf-2192e4d738ad",
        "colab": {
          "base_uri": "https://localhost:8080/"
        }
      },
      "execution_count": 13,
      "outputs": [
        {
          "output_type": "stream",
          "name": "stdout",
          "text": [
            "1.0\n",
            "2\n",
            "(1+0j)\n",
            " ------ \n",
            "<class 'float'>\n",
            "<class 'int'>\n",
            "<class 'complex'>\n"
          ]
        }
      ]
    },
    {
      "cell_type": "code",
      "source": [
        "import random\n",
        "\n",
        "print(random.randrange(1,10))#print random no 1 to 10 it will be change every time when u running program"
      ],
      "metadata": {
        "id": "dIaLMFNwvtij",
        "outputId": "a9f6d8a6-d0b3-48b0-8ef8-c178878076d3",
        "colab": {
          "base_uri": "https://localhost:8080/"
        }
      },
      "execution_count": 22,
      "outputs": [
        {
          "output_type": "stream",
          "name": "stdout",
          "text": [
            "7\n"
          ]
        }
      ]
    },
    {
      "cell_type": "code",
      "source": [
        "x = int(1.9) # x will be 1\n",
        "y = float(2) # y will be 2.0\n",
        "z = str(\"3\") # z will be 3\n",
        "print(x)\n",
        "print(y)\n",
        "print(z)"
      ],
      "metadata": {
        "id": "KhcYgSHKwoVI",
        "outputId": "13ed9f42-1eec-44d0-d7f8-63952106a974",
        "colab": {
          "base_uri": "https://localhost:8080/"
        }
      },
      "execution_count": 24,
      "outputs": [
        {
          "output_type": "stream",
          "name": "stdout",
          "text": [
            "1\n",
            "2.0\n",
            "3\n"
          ]
        }
      ]
    },
    {
      "cell_type": "code",
      "source": [
        "#Strings are Arrays\n",
        "a = \"Hello, World!\"\n",
        "print(a[1])"
      ],
      "metadata": {
        "id": "7b5lODAvxI8P",
        "outputId": "589231f6-18fe-48ab-c2d0-8b453df6d081",
        "colab": {
          "base_uri": "https://localhost:8080/"
        }
      },
      "execution_count": 25,
      "outputs": [
        {
          "output_type": "stream",
          "name": "stdout",
          "text": [
            "e\n"
          ]
        }
      ]
    },
    {
      "cell_type": "code",
      "source": [
        "b = \"Hello, World!\"\n",
        "print(b[0:4])\n",
        "print(b[:4])"
      ],
      "metadata": {
        "id": "icV7aNs-xZ5C",
        "outputId": "e12ac694-c352-4f37-fde0-f44d8b1929dd",
        "colab": {
          "base_uri": "https://localhost:8080/"
        }
      },
      "execution_count": 37,
      "outputs": [
        {
          "output_type": "stream",
          "name": "stdout",
          "text": [
            "Hell\n",
            "Hell\n"
          ]
        }
      ]
    },
    {
      "cell_type": "code",
      "source": [
        "c = \"HELLO\"\n",
        "print(c[-5])\n",
        "print(c[-4])\n",
        "print(c[-3])\n",
        "print(c[-2])\n",
        "print(c[-1])\n",
        "print(c[-5:-1])"
      ],
      "metadata": {
        "id": "MZIwEmjtxq6z",
        "outputId": "5f3aa226-16ec-48e5-ac4e-f4702e83e244",
        "colab": {
          "base_uri": "https://localhost:8080/"
        }
      },
      "execution_count": 39,
      "outputs": [
        {
          "output_type": "stream",
          "name": "stdout",
          "text": [
            "H\n",
            "E\n",
            "L\n",
            "L\n",
            "O\n",
            "HELL\n"
          ]
        }
      ]
    },
    {
      "cell_type": "code",
      "source": [
        "# Example\n",
        "# The strip() method removes any whitespace from the beginning or the end:\n",
        "a = \"  Hello, World!  \"\n",
        "print(a.strip()) # returns \"Hello, World!\""
      ],
      "metadata": {
        "id": "60iWtCQXxk__",
        "outputId": "c45649a6-c97a-4ba7-bf67-bafd2ff84ead",
        "colab": {
          "base_uri": "https://localhost:8080/"
        }
      },
      "execution_count": 42,
      "outputs": [
        {
          "output_type": "stream",
          "name": "stdout",
          "text": [
            "Hello, World!\n"
          ]
        }
      ]
    },
    {
      "cell_type": "code",
      "source": [
        "# Example\n",
        "# The len() method returns the length of a string:\n",
        "a = \"Hello, World!\"\n",
        "print(len(a))"
      ],
      "metadata": {
        "id": "-Ejodu4pzKIl",
        "outputId": "f5e37802-13f8-4cae-dcfa-f739e12a4151",
        "colab": {
          "base_uri": "https://localhost:8080/"
        }
      },
      "execution_count": 43,
      "outputs": [
        {
          "output_type": "stream",
          "name": "stdout",
          "text": [
            "13\n"
          ]
        }
      ]
    },
    {
      "cell_type": "code",
      "source": [
        "#Example The lower() method returns the string in lower case:\n",
        "a = \"Hello, World!\"\n",
        "print(a.lower())\n",
        "print(a.upper())\n",
        "print(a.replace(\"H\", \"J\"))#replace word\n",
        "print(a.split(\",\")) # divided into two word and sentence returns ['Hello', ' World!']"
      ],
      "metadata": {
        "id": "DSuqI0tFzR22",
        "outputId": "23a3836c-648f-4f58-b250-01ed39ce299f",
        "colab": {
          "base_uri": "https://localhost:8080/"
        }
      },
      "execution_count": 44,
      "outputs": [
        {
          "output_type": "stream",
          "name": "stdout",
          "text": [
            "hello, world!\n",
            "HELLO, WORLD!\n",
            "Jello, World!\n",
            "['Hello', ' World!']\n"
          ]
        }
      ]
    },
    {
      "cell_type": "code",
      "source": [
        "# Example\n",
        "# Use the format() method to insert numbers into strings:\n",
        "\n",
        "age = 36\n",
        "txt = \"My name is kumar, and I am {}\"\n",
        "print(txt.format(age))"
      ],
      "metadata": {
        "id": "9WYI_S4Xz45W",
        "outputId": "19f21cdc-98bd-4fe9-b72b-3790017bf1aa",
        "colab": {
          "base_uri": "https://localhost:8080/"
        }
      },
      "execution_count": 45,
      "outputs": [
        {
          "output_type": "stream",
          "name": "stdout",
          "text": [
            "My name is kumar, and I am 36\n"
          ]
        }
      ]
    },
    {
      "cell_type": "code",
      "source": [
        "# The format() method takes unlimited number of arguments, and are placed into the respective placeholders:\n",
        "# Example\n",
        "quantity = 3\n",
        "itemno = 567\n",
        "price = 49.95\n",
        "myorder = \"I want {} pieces of item {} for {} dollars.\"\n",
        "\n",
        "print(myorder.format(quantity, itemno, price))"
      ],
      "metadata": {
        "id": "hExOle540DH-",
        "outputId": "8bb3b2ab-413e-482a-8f0c-f6eb49e2c7c2",
        "colab": {
          "base_uri": "https://localhost:8080/"
        }
      },
      "execution_count": 46,
      "outputs": [
        {
          "output_type": "stream",
          "name": "stdout",
          "text": [
            "I want 3 pieces of item 567 for 49.95 dollars.\n"
          ]
        }
      ]
    },
    {
      "cell_type": "code",
      "source": [
        "# You can use index numbers {0} to be sure the arguments are placed in the correct placeholders:\n",
        "\n",
        "# Example\n",
        "quantity = 3\n",
        "\n",
        "itemno = 567\n",
        "\n",
        "price = 49.95\n",
        "myorder = \"I want to pay {2} dollars for {0} pieces of item {1}.\"\n",
        "print(myorder.format(quantity, itemno, price))"
      ],
      "metadata": {
        "id": "Lijz-WzI0Ykp",
        "outputId": "675ee533-5111-445e-cedc-c97b8e7e2b32",
        "colab": {
          "base_uri": "https://localhost:8080/"
        }
      },
      "execution_count": 47,
      "outputs": [
        {
          "output_type": "stream",
          "name": "stdout",
          "text": [
            "I want to pay 49.95 dollars for 3 pieces of item 567.\n"
          ]
        }
      ]
    },
    {
      "cell_type": "markdown",
      "source": [
        "Python Operators\n",
        "1-Python Arithmetic Operators\n"
      ],
      "metadata": {
        "id": "Id-p4LzK9tTJ"
      }
    },
    {
      "cell_type": "code",
      "source": [
        "x=2\n",
        "y=3\n",
        "a=x+y#addition\n",
        "print(a)"
      ],
      "metadata": {
        "id": "Zl-_UBsb-xvD",
        "outputId": "3ce3eb48-2cfb-4464-be76-f5943a3529b3",
        "colab": {
          "base_uri": "https://localhost:8080/"
        }
      },
      "execution_count": 50,
      "outputs": [
        {
          "output_type": "stream",
          "name": "stdout",
          "text": [
            "5\n"
          ]
        }
      ]
    },
    {
      "cell_type": "code",
      "source": [
        "a=x*y#multiplication\n",
        "print(a)"
      ],
      "metadata": {
        "id": "Au58jdXM_D9d",
        "outputId": "bfb85cab-59a5-412c-9c12-dbdb39d1f5ea",
        "colab": {
          "base_uri": "https://localhost:8080/"
        }
      },
      "execution_count": 52,
      "outputs": [
        {
          "output_type": "stream",
          "name": "stdout",
          "text": [
            "6\n"
          ]
        }
      ]
    },
    {
      "cell_type": "code",
      "source": [
        "a=x/y#Division\n",
        "print(a)"
      ],
      "metadata": {
        "id": "HvZ60Wt0_Hay",
        "outputId": "c59e5d5c-d136-45a7-fecf-efe62bf80203",
        "colab": {
          "base_uri": "https://localhost:8080/"
        }
      },
      "execution_count": 53,
      "outputs": [
        {
          "output_type": "stream",
          "name": "stdout",
          "text": [
            "0.6666666666666666\n"
          ]
        }
      ]
    },
    {
      "cell_type": "code",
      "source": [
        "a=x-y#subtraction\n",
        "print(a)"
      ],
      "metadata": {
        "id": "EpwS-0fc_APz",
        "outputId": "941e1f10-910b-4ddb-8a00-cbbafb54c59e",
        "colab": {
          "base_uri": "https://localhost:8080/"
        }
      },
      "execution_count": 51,
      "outputs": [
        {
          "output_type": "stream",
          "name": "stdout",
          "text": [
            "-1\n"
          ]
        }
      ]
    },
    {
      "cell_type": "code",
      "source": [
        "a=x%y#Modulus\n",
        "print(a)"
      ],
      "metadata": {
        "id": "iMWi5v9n_KnP",
        "outputId": "758a11c1-2d47-44c3-d5b8-d05cff89a9a7",
        "colab": {
          "base_uri": "https://localhost:8080/"
        }
      },
      "execution_count": 54,
      "outputs": [
        {
          "output_type": "stream",
          "name": "stdout",
          "text": [
            "2\n"
          ]
        }
      ]
    },
    {
      "cell_type": "code",
      "source": [
        "a=x+y#Exponentiation\n",
        "print(a)"
      ],
      "metadata": {
        "id": "2m5q0LMV_N0T",
        "outputId": "805fbcac-dbe8-437d-ae3c-f93c57d05c5b",
        "colab": {
          "base_uri": "https://localhost:8080/"
        }
      },
      "execution_count": 55,
      "outputs": [
        {
          "output_type": "stream",
          "name": "stdout",
          "text": [
            "5\n"
          ]
        }
      ]
    },
    {
      "cell_type": "code",
      "source": [
        "a=x//y#floor division\n",
        "print(a)"
      ],
      "metadata": {
        "id": "F_TrHG_u_Sg-",
        "outputId": "e1a9a95d-f73c-4e02-fb31-52afaf0ff8a3",
        "colab": {
          "base_uri": "https://localhost:8080/"
        }
      },
      "execution_count": 56,
      "outputs": [
        {
          "output_type": "stream",
          "name": "stdout",
          "text": [
            "0\n"
          ]
        }
      ]
    },
    {
      "cell_type": "markdown",
      "source": [
        "Python Assignment Operators"
      ],
      "metadata": {
        "id": "i2XzupVo_d3e"
      }
    },
    {
      "cell_type": "code",
      "source": [
        "a = 7\n",
        "print(a)\n",
        "a += 1#+=\tAddition Assignment\t # a = a + 1\n",
        "print(a)\n",
        "a -= 3#-=\tSubtraction Assignment\t # a = a - 3\n",
        "print(a)\n",
        "a *= 4#*=\tMultiplication Assignment\t # a = a * 4\n",
        "print(a)\n",
        "a /= 3#/=\tDivision Assignment\t # a = a / 3\n",
        "print(a)\n",
        "a %= 10#%=\tRemainder Assignment\t # a = a % 10\n",
        "print(a)\n",
        "a **= 10#**=\tExponent Assignment\t # a = a ** 10\n",
        "print(a)"
      ],
      "metadata": {
        "id": "04ohqBrI_eny",
        "outputId": "64331320-a421-4e27-8768-a47674788ffe",
        "colab": {
          "base_uri": "https://localhost:8080/"
        }
      },
      "execution_count": 59,
      "outputs": [
        {
          "output_type": "stream",
          "name": "stdout",
          "text": [
            "7\n",
            "8\n",
            "5\n",
            "20\n",
            "6.666666666666667\n",
            "6.666666666666667\n",
            "173415299.1583262\n"
          ]
        }
      ]
    }
  ],
  "metadata": {
    "colab": {
      "name": "Welcome To Colab",
      "provenance": [],
      "include_colab_link": true
    },
    "kernelspec": {
      "display_name": "Python 3",
      "name": "python3"
    }
  },
  "nbformat": 4,
  "nbformat_minor": 0
}