{
 "cells": [
  {
   "cell_type": "code",
   "execution_count": 1,
   "id": "5f3e31d0-172d-455e-b35c-8218102eb14c",
   "metadata": {},
   "outputs": [
    {
     "name": "stdout",
     "output_type": "stream",
     "text": [
      "Two-Sample t-Test Assuming Equal Variance:\n",
      "T-statistic:4.954336943068622,P-value:0.0011147946157905042\n",
      "\n"
     ]
    }
   ],
   "source": [
    "import scipy.stats as stats\n",
    "\n",
    "#1.Two sample t-Test Assuming Equal Variances\n",
    "group_A=[85,88,90,92,85]\n",
    "group_B=[78,82,80,75,80]\n",
    "t_stat_eq,p_value_eq=stats.ttest_ind(group_A,group_B,equal_var=True)\n",
    "print(f\"Two-Sample t-Test Assuming Equal Variance:\\nT-statistic:{t_stat_eq},P-value:{p_value_eq}\\n\")"
   ]
  },
  {
   "cell_type": "code",
   "execution_count": 5,
   "id": "a9b60221-8308-4735-9796-4c9059d5b78d",
   "metadata": {},
   "outputs": [
    {
     "name": "stdout",
     "output_type": "stream",
     "text": [
      "Two-Sample t-Test Assuming unequal Variance:\n",
      "T-statistic:4.954336943068623,P-value:0.0011918488395337484\n",
      "\n"
     ]
    }
   ],
   "source": [
    "#1.Two sample t-Test Assuming unequal Variances\n",
    "group_A=[85,88,90,92,85]\n",
    "group_B=[78,82,80,75,80]\n",
    "t_stat_eq,p_value_eq=stats.ttest_ind(group_A,group_B,equal_var=False)\n",
    "print(f\"Two-Sample t-Test Assuming unequal Variance:\\nT-statistic:{t_stat_eq},P-value:{p_value_eq}\\n\")\n"
   ]
  },
  {
   "cell_type": "code",
   "execution_count": 9,
   "id": "137abd62-4377-4585-ae47-882b2d4f7798",
   "metadata": {},
   "outputs": [
    {
     "name": "stdout",
     "output_type": "stream",
     "text": [
      "paired t-test:\n",
      "T-statistic:4.151390436129983,P-value:0.014244211762216932\n",
      "\n"
     ]
    }
   ],
   "source": [
    "#1.Two sample t-Test Assuming unequal Variances\n",
    "before=[85,88,90,92,85]\n",
    "after=[78,82,80,75,80]\n",
    "t_stat_paired,p_value_paired=stats.ttest_rel(before,after)\n",
    "print(f\"paired t-test:\\nT-statistic:{t_stat_paired},P-value:{p_value_paired}\\n\")"
   ]
  },
  {
   "cell_type": "code",
   "execution_count": 15,
   "id": "93551c22-85df-48ed-b851-f220a46597c5",
   "metadata": {},
   "outputs": [
    {
     "name": "stdout",
     "output_type": "stream",
     "text": [
      "chi-square test:\n",
      "chi2statistics:0.5688888888888889,P-Value:0.45070078042613604\n",
      "\n"
     ]
    }
   ],
   "source": [
    "#chi-square test\n",
    "observed=[[40,20],[35,25]]\n",
    "chi2_stat,p_value_chi2,dof,expected=stats.chi2_contingency(observed)\n",
    "print(f\"chi-square test:\\nchi2statistics:{chi2_stat},P-Value:{p_value_chi2}\\n\")"
   ]
  },
  {
   "cell_type": "code",
   "execution_count": 17,
   "id": "07c44f1e-5dd0-420a-806b-8839f65ca37e",
   "metadata": {},
   "outputs": [
    {
     "name": "stdout",
     "output_type": "stream",
     "text": [
      "ANOVA:\n",
      "F-statistics:2.2191780821917813,P-value:0.15133422628899984\n"
     ]
    }
   ],
   "source": [
    "#Anova\n",
    "\n",
    "diet_a=[5,6,8,9,10]\n",
    "diet_b=[4,6,7,7,5]\n",
    "diet_c=[8,9,6,7,8]\n",
    "f_stat,p_value_anova=stats.f_oneway(diet_a,diet_b,diet_c)\n",
    "print(f\"ANOVA:\\nF-statistics:{f_stat},P-value:{p_value_anova}\")"
   ]
  }
 ],
 "metadata": {
  "kernelspec": {
   "display_name": "Python 3 (ipykernel)",
   "language": "python",
   "name": "python3"
  },
  "language_info": {
   "codemirror_mode": {
    "name": "ipython",
    "version": 3
   },
   "file_extension": ".py",
   "mimetype": "text/x-python",
   "name": "python",
   "nbconvert_exporter": "python",
   "pygments_lexer": "ipython3",
   "version": "3.12.4"
  }
 },
 "nbformat": 4,
 "nbformat_minor": 5
}
